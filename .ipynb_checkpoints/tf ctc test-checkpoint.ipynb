{
 "cells": [
  {
   "cell_type": "code",
   "execution_count": 1,
   "metadata": {
    "ExecuteTime": {
     "end_time": "2018-01-18T21:08:48.698618Z",
     "start_time": "2018-01-18T21:08:46.616267Z"
    }
   },
   "outputs": [
    {
     "name": "stdout",
     "output_type": "stream",
     "text": [
      "Populating the interactive namespace from numpy and matplotlib\n"
     ]
    },
    {
     "name": "stderr",
     "output_type": "stream",
     "text": [
      "Using TensorFlow backend.\n",
      "/usr/local/lib/python3.5/dist-packages/scipy/io/wavfile.py:273: WavFileWarning: Chunk (non-data) not understood, skipping it.\n",
      "  WavFileWarning)\n"
     ]
    }
   ],
   "source": [
    "%pylab inline\n",
    "\n",
    "import pandas as pd\n",
    "import nltk\n",
    "\n",
    "import kapre\n",
    "import arrow\n",
    "import pprint\n",
    "import threading\n",
    "import pprint\n",
    "from tqdm import tqdm\n",
    "\n",
    "from soph import MFCC, center_wave, Delta\n",
    "from soph import ex_generator as old_gen\n",
    "\n",
    "import tensorflow as tf\n",
    "config = tf.ConfigProto(allow_soft_placement = True)\n",
    "sess = tf.Session(config = config)\n",
    "\n",
    "import keras\n",
    "import keras.backend as K\n",
    "K.set_session(sess)\n",
    "\n",
    "\n",
    "ex_df = pd.read_pickle(\"data/ex_df.pkl\")"
   ]
  },
  {
   "cell_type": "code",
   "execution_count": 2,
   "metadata": {
    "ExecuteTime": {
     "end_time": "2018-01-18T21:08:48.707094Z",
     "start_time": "2018-01-18T21:08:48.700522Z"
    }
   },
   "outputs": [
    {
     "data": {
      "text/plain": [
       "[name: \"/device:CPU:0\"\n",
       " device_type: \"CPU\"\n",
       " memory_limit: 268435456\n",
       " locality {\n",
       " }\n",
       " incarnation: 16454814290371672280, name: \"/device:GPU:0\"\n",
       " device_type: \"GPU\"\n",
       " memory_limit: 357957632\n",
       " locality {\n",
       "   bus_id: 1\n",
       " }\n",
       " incarnation: 16880382070085251117\n",
       " physical_device_desc: \"device: 0, name: Tesla K80, pci bus id: 0000:00:1e.0, compute capability: 3.7\"]"
      ]
     },
     "execution_count": 2,
     "metadata": {},
     "output_type": "execute_result"
    }
   ],
   "source": [
    "from tensorflow.python.client import device_lib\n",
    "device_lib.list_local_devices()"
   ]
  },
  {
   "cell_type": "markdown",
   "metadata": {},
   "source": [
    "# Utility code"
   ]
  },
  {
   "cell_type": "code",
   "execution_count": 3,
   "metadata": {
    "ExecuteTime": {
     "end_time": "2018-01-18T21:08:49.757700Z",
     "start_time": "2018-01-18T21:08:48.708760Z"
    }
   },
   "outputs": [
    {
     "name": "stdout",
     "output_type": "stream",
     "text": [
      "[nltk_data] Downloading package cmudict to /home/ubuntu/nltk_data...\n",
      "[nltk_data]   Package cmudict is already up-to-date!\n",
      "right [['R', 'AY1', 'T']]\n",
      "eight [['EY1', 'T']]\n",
      "cat [['K', 'AE1', 'T']]\n",
      "tree [['T', 'R', 'IY1']]\n",
      "bed [['B', 'EH1', 'D']]\n",
      "happy [['HH', 'AE1', 'P', 'IY0']]\n",
      "go [['G', 'OW1']]\n",
      "dog [['D', 'AO1', 'G']]\n",
      "no [['N', 'OW1']]\n",
      "wow [['W', 'AW1']]\n",
      "nine [['N', 'AY1', 'N']]\n",
      "left [['L', 'EH1', 'F', 'T']]\n",
      "stop [['S', 'T', 'AA1', 'P']]\n",
      "three [['TH', 'R', 'IY1']]\n",
      "sheila [['SH', 'IY1', 'L', 'AH0']]\n",
      "one [['W', 'AH1', 'N'], ['HH', 'W', 'AH1', 'N']]\n",
      "bird [['B', 'ER1', 'D']]\n",
      "zero [['Z', 'IH1', 'R', 'OW0'], ['Z', 'IY1', 'R', 'OW0']]\n",
      "seven [['S', 'EH1', 'V', 'AH0', 'N']]\n",
      "up [['AH1', 'P']]\n",
      "marvin [['M', 'AA1', 'R', 'V', 'IH0', 'N']]\n",
      "two [['T', 'UW1']]\n",
      "house [['HH', 'AW1', 'S']]\n",
      "down [['D', 'AW1', 'N']]\n",
      "six [['S', 'IH1', 'K', 'S']]\n",
      "yes [['Y', 'EH1', 'S']]\n",
      "on [['AA1', 'N'], ['AO1', 'N']]\n",
      "five [['F', 'AY1', 'V']]\n",
      "off [['AO1', 'F']]\n",
      "four [['F', 'AO1', 'R']]\n",
      "34 phonemes in alphabet\n",
      "['AA', 'AE', 'AH', 'AO', 'AW', 'AY', 'B', 'D', 'EH', 'ER', 'EY', 'F', 'G', 'HH',\n",
      " 'IH', 'IY', 'K', 'L', 'M', 'N', 'OW', 'P', 'R', 'S', 'SH', 'T', 'TH', 'UW',\n",
      " 'V', 'W', 'Y', 'Z', 'sil', '*']\n"
     ]
    }
   ],
   "source": [
    "nltk.download('cmudict')\n",
    "arpabet = nltk.corpus.cmudict.dict()\n",
    "\n",
    "words = list(ex_df.raw_label.unique())\n",
    "words.remove(np.nan)\n",
    "words.remove(\"silence\")\n",
    "\n",
    "phone_dict = dict()\n",
    "phone_set = set()\n",
    "maxlen = 0\n",
    "for w in words:\n",
    "    print(w, arpabet[w])\n",
    "    phones = arpabet[w][0]\n",
    "    phones = [p.strip(\"012\") for p in phones] #remove emphasis on vowels\n",
    "    phones_b = phones\n",
    "    phone_dict[w] = phones_b\n",
    "    phone_set |= set(phones)\n",
    "    if (len(phones_b)) > maxlen:\n",
    "        maxlen = len(phones_b)\n",
    "phone_dict[\"silence\"] = [\"sil\"]\n",
    "alphabet = sorted(list(phone_set)) + [\"sil\"] + [\"*\"]\n",
    "\n",
    "def text_to_labels(text):\n",
    "    phones = phone_dict[text]\n",
    "    ret = [alphabet.index(p) for p in phones]\n",
    "    return ret\n",
    "\n",
    "N_CAT = len(alphabet)\n",
    "# pprint.pprint(phone_dict, compact=True)\n",
    "print(\"{} phonemes in alphabet\".format(N_CAT))\n",
    "\n",
    "pprint.pprint(alphabet, compact=True)"
   ]
  },
  {
   "cell_type": "code",
   "execution_count": 4,
   "metadata": {
    "ExecuteTime": {
     "end_time": "2018-01-18T21:08:49.825410Z",
     "start_time": "2018-01-18T21:08:49.759551Z"
    }
   },
   "outputs": [],
   "source": [
    "def ex_generator(\n",
    "        batch_size=32,\n",
    "        shuffle=True,\n",
    "        state=[\"train\"],\n",
    "        p_transform=0,\n",
    "        vol_range=0,\n",
    "        shift=0,\n",
    "):\n",
    "\n",
    "    epoch_df = ex_df[ex_df.state.isin(state)]\n",
    "    num_ex = len(epoch_df)\n",
    "    indices = np.arange(num_ex)\n",
    "\n",
    "    # epoch loop runs\n",
    "    while True:\n",
    "\n",
    "        # shuffle anew every epoch\n",
    "        if shuffle:\n",
    "            epoch_df = epoch_df.sample(frac=1)\n",
    "\n",
    "        # batch loop\n",
    "        for i in np.arange(0, num_ex, batch_size):\n",
    "\n",
    "            if i+batch_size > num_ex:\n",
    "                continue\n",
    "            \n",
    "            batch_df = epoch_df.iloc[i:i + batch_size, :]\n",
    "\n",
    "            x = np.zeros((len(batch_df), 16000))\n",
    "            indices = []\n",
    "            values = []\n",
    "\n",
    "            # example loop\n",
    "            for b in range(len(batch_df)):\n",
    "\n",
    "                x[b, ...] = center_wave(\n",
    "                    epoch_df.fn.values[b],\n",
    "                    vol_range=vol_range,\n",
    "                    shift=shift,\n",
    "                    p_transform=p_transform)\n",
    "\n",
    "                labels_i = text_to_labels(epoch_df.raw_label.values[b])\n",
    "                \n",
    "                for t,v in enumerate(labels_i):\n",
    "                    indices.append([b,t])\n",
    "                    values.append(v)\n",
    "                    \n",
    "\n",
    "\n",
    "            indices = np.array(indices, dtype='int32')\n",
    "            values = np.array(values, dtype='int32')\n",
    "            shape = np.array([len(batch_df), maxlen], dtype='int32')\n",
    "            sequence_length = np.full((len(batch_df),), 100, dtype='int32')\n",
    "\n",
    "            yield {\"wav\":x, \n",
    "                   \"labels\": (indices, values, shape),\n",
    "                   \"sequence_length\": sequence_length}\n"
   ]
  },
  {
   "cell_type": "code",
   "execution_count": 5,
   "metadata": {
    "ExecuteTime": {
     "end_time": "2018-01-18T21:08:49.834412Z",
     "start_time": "2018-01-18T21:08:49.827206Z"
    }
   },
   "outputs": [],
   "source": [
    "N_SEQ = 100\n",
    "SR = 16000\n",
    "F_STEP = SR // N_SEQ\n",
    "F_LEN = (5 * F_STEP) // 2\n",
    "N_FFT = 512\n",
    "N_MEL = 30\n",
    "N_MFCC = 15\n",
    "MAX_F = 4000\n",
    "MIN_F = 40\n",
    "\n",
    "# DROP = .5\n",
    "NOISE = .75"
   ]
  },
  {
   "cell_type": "code",
   "execution_count": 6,
   "metadata": {
    "ExecuteTime": {
     "end_time": "2018-01-18T21:08:53.736068Z",
     "start_time": "2018-01-18T21:08:49.836332Z"
    }
   },
   "outputs": [
    {
     "name": "stdout",
     "output_type": "stream",
     "text": [
      "_________________________________________________________________\n",
      "Layer (type)                 Output Shape              Param #   \n",
      "=================================================================\n",
      "input_1 (InputLayer)         (None, 16000)             0         \n",
      "_________________________________________________________________\n",
      "mfcc_1 (MFCC)                (None, 100, 15)           7710      \n",
      "_________________________________________________________________\n",
      "batch_normalization_1 (Batch (None, 100, 15)           60        \n",
      "_________________________________________________________________\n",
      "gaussian_noise_1 (GaussianNo (None, 100, 15)           0         \n",
      "_________________________________________________________________\n",
      "delta_1 (Delta)              (None, 100, 15, 3)        5         \n",
      "_________________________________________________________________\n",
      "reshape_1 (Reshape)          (None, 100, 45)           0         \n",
      "_________________________________________________________________\n",
      "bidirectional_1 (Bidirection (None, 100, 50)           28800     \n",
      "_________________________________________________________________\n",
      "batch_normalization_2 (Batch (None, 100, 50)           200       \n",
      "_________________________________________________________________\n",
      "gaussian_noise_2 (GaussianNo (None, 100, 50)           0         \n",
      "_________________________________________________________________\n",
      "bidirectional_2 (Bidirection (None, 100, 34)           17340     \n",
      "=================================================================\n",
      "Total params: 54,115\n",
      "Trainable params: 46,270\n",
      "Non-trainable params: 7,845\n",
      "_________________________________________________________________\n"
     ]
    }
   ],
   "source": [
    "with tf.device('/gpu:0'):\n",
    "    lr = tf.placeholder(tf.float32, [], name='lr')\n",
    "    wav_input = K.placeholder((None, SR), dtype='float32', name=\"wav_input\")\n",
    "    labels = K.placeholder(sparse=True, dtype='int32', name=\"labels\")\n",
    "    sequence_length = K.placeholder(\n",
    "        [None], dtype='int32', name=\"sequence_length\")\n",
    "\n",
    "    wav_mean = K.mean(wav_input, axis=1, keepdims=True)\n",
    "    wav_std = K.std(wav_input, axis=1, keepdims=True)\n",
    "    wav_input = (wav_input - wav_input) / wav_std\n",
    "\n",
    "    base_model = keras.Sequential([\n",
    "        keras.layers.InputLayer(input_tensor=wav_input),\n",
    "        MFCC(\n",
    "            frame_length=F_LEN,\n",
    "            frame_step=F_STEP,\n",
    "            fft_length=N_FFT,\n",
    "            num_mel_bins=N_MEL,\n",
    "            sr=SR,\n",
    "            n_mfcc=N_MFCC,\n",
    "            upper_edge_hertz=MAX_F,\n",
    "            lower_edge_hertz=MIN_F),\n",
    "        keras.layers.BatchNormalization(),\n",
    "        keras.layers.GaussianNoise(NOISE),\n",
    "        Delta(),\n",
    "        keras.layers.Reshape((N_SEQ, N_MFCC * 3)),\n",
    "\n",
    "        #         keras.layers.Bidirectional(\n",
    "        #             keras.layers.GRU(50, return_sequences=True), merge_mode=\"concat\"),\n",
    "        #         keras.layers.BatchNormalization(),\n",
    "        #         keras.layers.Dropout(DROP),\n",
    "\n",
    "        keras.layers.Bidirectional(\n",
    "            keras.layers.GRU(50, activation=\"elu\", return_sequences=True), merge_mode=\"ave\"),\n",
    "        keras.layers.BatchNormalization(),\n",
    "        keras.layers.GaussianNoise(NOISE),\n",
    "        \n",
    "        keras.layers.Bidirectional(\n",
    "            keras.layers.GRU(N_CAT, activation=\"linear\", return_sequences=True),\n",
    "            merge_mode=\"ave\"),\n",
    "    ])\n",
    "    base_model.summary()\n",
    "\n",
    "    logits = base_model.output\n",
    "    logits = tf.transpose(logits, (1, 0, 2))\n",
    "\n",
    "    loss = tf.nn.ctc_loss(labels, logits, sequence_length)\n",
    "    cost = tf.reduce_mean(loss)\n",
    "    optimizer = tf.contrib.opt.NadamOptimizer(learning_rate=lr).minimize(cost)\n",
    "\n",
    "    decoded, _ = tf.nn.ctc_beam_search_decoder(\n",
    "        logits,\n",
    "        sequence_length,\n",
    "        beam_width=100,\n",
    "        top_paths=10,\n",
    "    )\n",
    "    greedy_decoded, _ = tf.nn.ctc_beam_search_decoder(\n",
    "        logits,\n",
    "        sequence_length,\n",
    "        beam_width=5,\n",
    "        top_paths=1,\n",
    "    )\n",
    "\n",
    "    ler = tf.reduce_mean(\n",
    "        tf.edit_distance(tf.cast(decoded[0], 'int32'), labels))\n",
    "    \n",
    "    greedy_ler = tf.reduce_mean(\n",
    "        tf.edit_distance(tf.cast(greedy_decoded[0], 'int32'), labels))"
   ]
  },
  {
   "cell_type": "code",
   "execution_count": 7,
   "metadata": {
    "ExecuteTime": {
     "end_time": "2018-01-18T21:08:54.197970Z",
     "start_time": "2018-01-18T21:08:53.737846Z"
    }
   },
   "outputs": [],
   "source": [
    "init_op = tf.global_variables_initializer()\n",
    "sess.run(init_op)"
   ]
  },
  {
   "cell_type": "code",
   "execution_count": 8,
   "metadata": {
    "ExecuteTime": {
     "end_time": "2018-01-18T21:08:54.204412Z",
     "start_time": "2018-01-18T21:08:54.199757Z"
    }
   },
   "outputs": [],
   "source": [
    "N_BATCH = 512\n",
    "train_gen = ex_generator(\n",
    "    batch_size=N_BATCH,\n",
    "    state=[\"train\"],\n",
    "    p_transform=0, \n",
    "    vol_range=.1, \n",
    "    shift=0,\n",
    ")\n",
    "val_gen = ex_generator(\n",
    "    batch_size=N_BATCH,\n",
    "    state=[\"val\", \"test\"],\n",
    "    shuffle=True,\n",
    ")"
   ]
  },
  {
   "cell_type": "code",
   "execution_count": 9,
   "metadata": {
    "ExecuteTime": {
     "end_time": "2018-01-18T22:13:12.986162Z",
     "start_time": "2018-01-18T21:08:54.206265Z"
    },
    "scrolled": false
   },
   "outputs": [
    {
     "name": "stderr",
     "output_type": "stream",
     "text": [
      "\r",
      "  0%|          | 0/103 [00:00<?, ?it/s]"
     ]
    },
    {
     "name": "stdout",
     "output_type": "stream",
     "text": [
      "beginning epoch 1/200. lr=0.002\n"
     ]
    },
    {
     "name": "stderr",
     "output_type": "stream",
     "text": [
      "train 103/103 | cost: 49.2793 | ler: 293.995: 100%|██████████| 103/103 [01:26<00:00,  1.20it/s]\n",
      "validation 27/27 | cost: 18.6865 | ler: 108.054: 100%|██████████| 27/27 [00:18<00:00,  1.42it/s]\n",
      "  0%|          | 0/103 [00:00<?, ?it/s]"
     ]
    },
    {
     "name": "stdout",
     "output_type": "stream",
     "text": [
      "beginning epoch 2/200. lr=0.002\n"
     ]
    },
    {
     "name": "stderr",
     "output_type": "stream",
     "text": [
      "train 103/103 | cost: 14.0917 | ler: 98.061: 100%|██████████| 103/103 [01:22<00:00,  1.24it/s]\n",
      "validation 27/27 | cost: 14.0361 | ler: 94.922: 100%|██████████| 27/27 [00:18<00:00,  1.43it/s]\n",
      "  0%|          | 0/103 [00:00<?, ?it/s]"
     ]
    },
    {
     "name": "stdout",
     "output_type": "stream",
     "text": [
      "beginning epoch 3/200. lr=0.002\n"
     ]
    },
    {
     "name": "stderr",
     "output_type": "stream",
     "text": [
      "train 103/103 | cost: 13.0522 | ler: 96.459: 100%|██████████| 103/103 [01:24<00:00,  1.22it/s]\n",
      "validation 27/27 | cost: 12.7069 | ler: 95.676: 100%|██████████| 27/27 [00:18<00:00,  1.44it/s]\n",
      "  0%|          | 0/103 [00:00<?, ?it/s]"
     ]
    },
    {
     "name": "stdout",
     "output_type": "stream",
     "text": [
      "beginning epoch 4/200. lr=0.002\n"
     ]
    },
    {
     "name": "stderr",
     "output_type": "stream",
     "text": [
      "train 103/103 | cost: 11.7292 | ler: 94.506: 100%|██████████| 103/103 [01:22<00:00,  1.26it/s]\n",
      "validation 27/27 | cost: 11.9916 | ler: 94.574: 100%|██████████| 27/27 [00:18<00:00,  1.43it/s]\n",
      "  0%|          | 0/103 [00:00<?, ?it/s]"
     ]
    },
    {
     "name": "stdout",
     "output_type": "stream",
     "text": [
      "beginning epoch 5/200. lr=0.002\n"
     ]
    },
    {
     "name": "stderr",
     "output_type": "stream",
     "text": [
      "train 103/103 | cost: 11.4999 | ler: 91.329: 100%|██████████| 103/103 [01:21<00:00,  1.26it/s]\n",
      "validation 27/27 | cost: 11.6842 | ler: 91.824: 100%|██████████| 27/27 [00:19<00:00,  1.42it/s]\n",
      "  0%|          | 0/103 [00:00<?, ?it/s]"
     ]
    },
    {
     "name": "stdout",
     "output_type": "stream",
     "text": [
      "beginning epoch 6/200. lr=0.002\n"
     ]
    },
    {
     "name": "stderr",
     "output_type": "stream",
     "text": [
      "train 103/103 | cost: 11.2355 | ler: 90.015: 100%|██████████| 103/103 [01:22<00:00,  1.25it/s]\n",
      "validation 27/27 | cost: 11.2519 | ler: 88.299: 100%|██████████| 27/27 [00:18<00:00,  1.43it/s]\n",
      "  0%|          | 0/103 [00:00<?, ?it/s]"
     ]
    },
    {
     "name": "stdout",
     "output_type": "stream",
     "text": [
      "beginning epoch 7/200. lr=0.002\n"
     ]
    },
    {
     "name": "stderr",
     "output_type": "stream",
     "text": [
      "train 103/103 | cost: 10.4324 | ler: 87.327: 100%|██████████| 103/103 [01:22<00:00,  1.24it/s]\n",
      "validation 27/27 | cost: 11.6367 | ler: 88.423: 100%|██████████| 27/27 [00:18<00:00,  1.42it/s]\n",
      "  0%|          | 0/103 [00:00<?, ?it/s]"
     ]
    },
    {
     "name": "stdout",
     "output_type": "stream",
     "text": [
      "beginning epoch 8/200. lr=0.002\n"
     ]
    },
    {
     "name": "stderr",
     "output_type": "stream",
     "text": [
      "train 103/103 | cost: 10.3218 | ler: 85.002: 100%|██████████| 103/103 [01:21<00:00,  1.27it/s]\n",
      "validation 27/27 | cost: 10.8182 | ler: 86.109: 100%|██████████| 27/27 [00:19<00:00,  1.42it/s]\n",
      "  0%|          | 0/103 [00:00<?, ?it/s]"
     ]
    },
    {
     "name": "stdout",
     "output_type": "stream",
     "text": [
      "beginning epoch 9/200. lr=0.002\n"
     ]
    },
    {
     "name": "stderr",
     "output_type": "stream",
     "text": [
      "train 103/103 | cost: 9.5938 | ler: 80.719: 100%|██████████| 103/103 [01:23<00:00,  1.23it/s]\n",
      "validation 27/27 | cost: 10.5199 | ler: 83.347: 100%|██████████| 27/27 [00:19<00:00,  1.42it/s]\n",
      "  0%|          | 0/103 [00:00<?, ?it/s]"
     ]
    },
    {
     "name": "stdout",
     "output_type": "stream",
     "text": [
      "beginning epoch 10/200. lr=0.002\n"
     ]
    },
    {
     "name": "stderr",
     "output_type": "stream",
     "text": [
      "train 103/103 | cost: 9.5166 | ler: 81.300: 100%|██████████| 103/103 [01:21<00:00,  1.26it/s]\n",
      "validation 27/27 | cost: 9.9455 | ler: 80.219: 100%|██████████| 27/27 [00:19<00:00,  1.42it/s]\n",
      "  0%|          | 0/103 [00:00<?, ?it/s]"
     ]
    },
    {
     "name": "stdout",
     "output_type": "stream",
     "text": [
      "beginning epoch 11/200. lr=0.002\n"
     ]
    },
    {
     "name": "stderr",
     "output_type": "stream",
     "text": [
      "train 103/103 | cost: 9.2480 | ler: 79.198: 100%|██████████| 103/103 [01:22<00:00,  1.26it/s]\n",
      "validation 27/27 | cost: 11.6149 | ler: 90.528: 100%|██████████| 27/27 [00:19<00:00,  1.42it/s]\n",
      "  0%|          | 0/103 [00:00<?, ?it/s]"
     ]
    },
    {
     "name": "stdout",
     "output_type": "stream",
     "text": [
      "beginning epoch 12/200. lr=0.002\n"
     ]
    },
    {
     "name": "stderr",
     "output_type": "stream",
     "text": [
      "train 103/103 | cost: 10.2249 | ler: 84.117: 100%|██████████| 103/103 [01:23<00:00,  1.23it/s]\n",
      "validation 27/27 | cost: 10.6259 | ler: 80.005: 100%|██████████| 27/27 [00:18<00:00,  1.42it/s]\n",
      "  0%|          | 0/103 [00:00<?, ?it/s]"
     ]
    },
    {
     "name": "stdout",
     "output_type": "stream",
     "text": [
      "beginning epoch 13/200. lr=0.002\n"
     ]
    },
    {
     "name": "stderr",
     "output_type": "stream",
     "text": [
      "train 103/103 | cost: 9.4016 | ler: 79.911: 100%|██████████| 103/103 [01:21<00:00,  1.26it/s]\n",
      "validation 27/27 | cost: 9.4589 | ler: 81.339: 100%|██████████| 27/27 [00:19<00:00,  1.42it/s]\n",
      "  0%|          | 0/103 [00:00<?, ?it/s]"
     ]
    },
    {
     "name": "stdout",
     "output_type": "stream",
     "text": [
      "beginning epoch 14/200. lr=0.002\n"
     ]
    },
    {
     "name": "stderr",
     "output_type": "stream",
     "text": [
      "train 103/103 | cost: 8.9941 | ler: 77.149: 100%|██████████| 103/103 [01:22<00:00,  1.24it/s]\n",
      "validation 27/27 | cost: 9.6969 | ler: 79.409: 100%|██████████| 27/27 [00:19<00:00,  1.42it/s]\n",
      "  0%|          | 0/103 [00:00<?, ?it/s]"
     ]
    },
    {
     "name": "stdout",
     "output_type": "stream",
     "text": [
      "beginning epoch 15/200. lr=0.002\n"
     ]
    },
    {
     "name": "stderr",
     "output_type": "stream",
     "text": [
      "train 103/103 | cost: 8.7085 | ler: 76.468: 100%|██████████| 103/103 [01:22<00:00,  1.25it/s]\n",
      "validation 27/27 | cost: 9.8614 | ler: 78.373: 100%|██████████| 27/27 [00:19<00:00,  1.42it/s]\n",
      "  0%|          | 0/103 [00:00<?, ?it/s]"
     ]
    },
    {
     "name": "stdout",
     "output_type": "stream",
     "text": [
      "beginning epoch 16/200. lr=0.002\n"
     ]
    },
    {
     "name": "stderr",
     "output_type": "stream",
     "text": [
      "train 103/103 | cost: 8.2387 | ler: 73.304: 100%|██████████| 103/103 [01:22<00:00,  1.25it/s]\n",
      "validation 27/27 | cost: 9.2127 | ler: 76.145: 100%|██████████| 27/27 [00:19<00:00,  1.42it/s]\n",
      "  0%|          | 0/103 [00:00<?, ?it/s]"
     ]
    },
    {
     "name": "stdout",
     "output_type": "stream",
     "text": [
      "beginning epoch 17/200. lr=0.002\n"
     ]
    },
    {
     "name": "stderr",
     "output_type": "stream",
     "text": [
      "train 103/103 | cost: 8.4049 | ler: 72.114: 100%|██████████| 103/103 [01:23<00:00,  1.24it/s]\n",
      "validation 27/27 | cost: 9.4933 | ler: 76.825: 100%|██████████| 27/27 [00:19<00:00,  1.42it/s]\n",
      "  0%|          | 0/103 [00:00<?, ?it/s]"
     ]
    },
    {
     "name": "stdout",
     "output_type": "stream",
     "text": [
      "beginning epoch 18/200. lr=0.002\n"
     ]
    },
    {
     "name": "stderr",
     "output_type": "stream",
     "text": [
      "train 103/103 | cost: 8.4746 | ler: 72.453: 100%|██████████| 103/103 [01:22<00:00,  1.25it/s]\n",
      "validation 27/27 | cost: 9.6042 | ler: 76.190: 100%|██████████| 27/27 [00:19<00:00,  1.42it/s]\n",
      "  0%|          | 0/103 [00:00<?, ?it/s]"
     ]
    },
    {
     "name": "stdout",
     "output_type": "stream",
     "text": [
      "beginning epoch 19/200. lr=0.002\n"
     ]
    },
    {
     "name": "stderr",
     "output_type": "stream",
     "text": [
      "train 103/103 | cost: 8.1503 | ler: 71.075: 100%|██████████| 103/103 [01:22<00:00,  1.25it/s]\n",
      "validation 27/27 | cost: 9.3061 | ler: 76.349: 100%|██████████| 27/27 [00:19<00:00,  1.41it/s]\n",
      "  0%|          | 0/103 [00:00<?, ?it/s]"
     ]
    },
    {
     "name": "stdout",
     "output_type": "stream",
     "text": [
      "beginning epoch 20/200. lr=0.002\n"
     ]
    },
    {
     "name": "stderr",
     "output_type": "stream",
     "text": [
      "train 103/103 | cost: 7.9200 | ler: 70.293: 100%|██████████| 103/103 [01:22<00:00,  1.25it/s]\n",
      "validation 27/27 | cost: 9.4422 | ler: 76.753: 100%|██████████| 27/27 [00:19<00:00,  1.41it/s]\n",
      "  0%|          | 0/103 [00:00<?, ?it/s]"
     ]
    },
    {
     "name": "stdout",
     "output_type": "stream",
     "text": [
      "reducing learning rate 0.0020->0.0005\n",
      "beginning epoch 21/200. lr=0.0005\n"
     ]
    },
    {
     "name": "stderr",
     "output_type": "stream",
     "text": [
      "train 103/103 | cost: 8.4397 | ler: 73.221: 100%|██████████| 103/103 [01:22<00:00,  1.25it/s]\n",
      "validation 27/27 | cost: 9.2764 | ler: 72.724: 100%|██████████| 27/27 [00:19<00:00,  1.41it/s]\n",
      "  0%|          | 0/103 [00:00<?, ?it/s]"
     ]
    },
    {
     "name": "stdout",
     "output_type": "stream",
     "text": [
      "beginning epoch 22/200. lr=0.0005\n"
     ]
    },
    {
     "name": "stderr",
     "output_type": "stream",
     "text": [
      "train 103/103 | cost: 8.5670 | ler: 72.258: 100%|██████████| 103/103 [01:23<00:00,  1.24it/s]\n",
      "validation 27/27 | cost: 8.7800 | ler: 73.031: 100%|██████████| 27/27 [00:19<00:00,  1.41it/s]\n",
      "  0%|          | 0/103 [00:00<?, ?it/s]"
     ]
    },
    {
     "name": "stdout",
     "output_type": "stream",
     "text": [
      "beginning epoch 23/200. lr=0.0005\n"
     ]
    },
    {
     "name": "stderr",
     "output_type": "stream",
     "text": [
      "train 103/103 | cost: 8.0268 | ler: 71.460: 100%|██████████| 103/103 [01:23<00:00,  1.24it/s]\n",
      "validation 27/27 | cost: 8.5711 | ler: 71.212: 100%|██████████| 27/27 [00:19<00:00,  1.42it/s]\n",
      "  0%|          | 0/103 [00:00<?, ?it/s]"
     ]
    },
    {
     "name": "stdout",
     "output_type": "stream",
     "text": [
      "beginning epoch 24/200. lr=0.0005\n"
     ]
    },
    {
     "name": "stderr",
     "output_type": "stream",
     "text": [
      "train 103/103 | cost: 8.1387 | ler: 71.273: 100%|██████████| 103/103 [01:22<00:00,  1.24it/s]\n",
      "validation 27/27 | cost: 8.2299 | ler: 70.429: 100%|██████████| 27/27 [00:19<00:00,  1.41it/s]\n",
      "  0%|          | 0/103 [00:00<?, ?it/s]"
     ]
    },
    {
     "name": "stdout",
     "output_type": "stream",
     "text": [
      "beginning epoch 25/200. lr=0.0005\n"
     ]
    },
    {
     "name": "stderr",
     "output_type": "stream",
     "text": [
      "train 103/103 | cost: 8.1595 | ler: 71.223: 100%|██████████| 103/103 [01:22<00:00,  1.25it/s]\n",
      "validation 27/27 | cost: 8.4973 | ler: 72.518: 100%|██████████| 27/27 [00:19<00:00,  1.42it/s]\n",
      "  0%|          | 0/103 [00:00<?, ?it/s]"
     ]
    },
    {
     "name": "stdout",
     "output_type": "stream",
     "text": [
      "beginning epoch 26/200. lr=0.0005\n"
     ]
    },
    {
     "name": "stderr",
     "output_type": "stream",
     "text": [
      "train 103/103 | cost: 7.9743 | ler: 70.891: 100%|██████████| 103/103 [01:23<00:00,  1.23it/s]\n",
      "validation 27/27 | cost: 8.4093 | ler: 71.782: 100%|██████████| 27/27 [00:19<00:00,  1.42it/s]\n",
      "  0%|          | 0/103 [00:00<?, ?it/s]"
     ]
    },
    {
     "name": "stdout",
     "output_type": "stream",
     "text": [
      "beginning epoch 27/200. lr=0.0005\n"
     ]
    },
    {
     "name": "stderr",
     "output_type": "stream",
     "text": [
      "train 103/103 | cost: 8.1616 | ler: 71.854: 100%|██████████| 103/103 [01:22<00:00,  1.25it/s]\n",
      "validation 27/27 | cost: 8.1335 | ler: 68.149: 100%|██████████| 27/27 [00:19<00:00,  1.41it/s]\n",
      "  0%|          | 0/103 [00:00<?, ?it/s]"
     ]
    },
    {
     "name": "stdout",
     "output_type": "stream",
     "text": [
      "beginning epoch 28/200. lr=0.0005\n"
     ]
    },
    {
     "name": "stderr",
     "output_type": "stream",
     "text": [
      "train 103/103 | cost: 7.9063 | ler: 69.957: 100%|██████████| 103/103 [01:23<00:00,  1.23it/s]\n",
      "validation 27/27 | cost: 8.7026 | ler: 71.637: 100%|██████████| 27/27 [00:19<00:00,  1.42it/s]\n",
      "  0%|          | 0/103 [00:00<?, ?it/s]"
     ]
    },
    {
     "name": "stdout",
     "output_type": "stream",
     "text": [
      "beginning epoch 29/200. lr=0.0005\n"
     ]
    },
    {
     "name": "stderr",
     "output_type": "stream",
     "text": [
      "train 103/103 | cost: 7.7730 | ler: 68.276: 100%|██████████| 103/103 [01:21<00:00,  1.26it/s]\n",
      "validation 27/27 | cost: 8.2159 | ler: 70.513: 100%|██████████| 27/27 [00:19<00:00,  1.41it/s]\n",
      "  0%|          | 0/103 [00:00<?, ?it/s]"
     ]
    },
    {
     "name": "stdout",
     "output_type": "stream",
     "text": [
      "beginning epoch 30/200. lr=0.0005\n"
     ]
    },
    {
     "name": "stderr",
     "output_type": "stream",
     "text": [
      "train 103/103 | cost: 7.8045 | ler: 69.174: 100%|██████████| 103/103 [01:23<00:00,  1.23it/s]\n",
      "validation 27/27 | cost: 8.6116 | ler: 69.384: 100%|██████████| 27/27 [00:19<00:00,  1.41it/s]\n",
      "  0%|          | 0/103 [00:00<?, ?it/s]"
     ]
    },
    {
     "name": "stdout",
     "output_type": "stream",
     "text": [
      "beginning epoch 31/200. lr=0.0005\n"
     ]
    },
    {
     "name": "stderr",
     "output_type": "stream",
     "text": [
      "train 103/103 | cost: 7.9637 | ler: 70.489: 100%|██████████| 103/103 [01:23<00:00,  1.23it/s]\n",
      "validation 27/27 | cost: 8.8956 | ler: 72.602: 100%|██████████| 27/27 [00:19<00:00,  1.40it/s]\n",
      "  0%|          | 0/103 [00:00<?, ?it/s]"
     ]
    },
    {
     "name": "stdout",
     "output_type": "stream",
     "text": [
      "reducing learning rate 0.0005->0.0001\n",
      "beginning epoch 32/200. lr=0.000125\n"
     ]
    },
    {
     "name": "stderr",
     "output_type": "stream",
     "text": [
      "train 103/103 | cost: 7.6309 | ler: 67.641: 100%|██████████| 103/103 [01:22<00:00,  1.25it/s]\n",
      "validation 27/27 | cost: 8.2551 | ler: 72.288: 100%|██████████| 27/27 [00:19<00:00,  1.42it/s]\n",
      "  0%|          | 0/103 [00:00<?, ?it/s]"
     ]
    },
    {
     "name": "stdout",
     "output_type": "stream",
     "text": [
      "reducing learning rate 0.0001->0.0000\n",
      "beginning epoch 33/200. lr=3.125e-05\n"
     ]
    },
    {
     "name": "stderr",
     "output_type": "stream",
     "text": [
      "train 103/103 | cost: 8.3755 | ler: 70.461: 100%|██████████| 103/103 [01:21<00:00,  1.26it/s]\n",
      "validation 27/27 | cost: 8.1669 | ler: 68.760: 100%|██████████| 27/27 [00:19<00:00,  1.41it/s]\n",
      "  0%|          | 0/103 [00:00<?, ?it/s]"
     ]
    },
    {
     "name": "stdout",
     "output_type": "stream",
     "text": [
      "reducing learning rate 0.0000->0.0000\n",
      "beginning epoch 34/200. lr=7.8125e-06\n"
     ]
    },
    {
     "name": "stderr",
     "output_type": "stream",
     "text": [
      "train 103/103 | cost: 8.4106 | ler: 71.433: 100%|██████████| 103/103 [01:22<00:00,  1.25it/s]\n",
      "validation 27/27 | cost: 8.0074 | ler: 67.816: 100%|██████████| 27/27 [00:19<00:00,  1.41it/s]\n",
      "  0%|          | 0/103 [00:00<?, ?it/s]"
     ]
    },
    {
     "name": "stdout",
     "output_type": "stream",
     "text": [
      "beginning epoch 35/200. lr=7.8125e-06\n"
     ]
    },
    {
     "name": "stderr",
     "output_type": "stream",
     "text": [
      "train 103/103 | cost: 8.1133 | ler: 71.637: 100%|██████████| 103/103 [01:23<00:00,  1.24it/s]\n",
      "validation 27/27 | cost: 8.1177 | ler: 68.481: 100%|██████████| 27/27 [00:19<00:00,  1.42it/s]\n",
      "  0%|          | 0/103 [00:00<?, ?it/s]"
     ]
    },
    {
     "name": "stdout",
     "output_type": "stream",
     "text": [
      "beginning epoch 36/200. lr=7.8125e-06\n"
     ]
    },
    {
     "name": "stderr",
     "output_type": "stream",
     "text": [
      "train 103/103 | cost: 8.0936 | ler: 71.510: 100%|██████████| 103/103 [01:22<00:00,  1.25it/s]\n",
      "validation 27/27 | cost: 8.0439 | ler: 68.020: 100%|██████████| 27/27 [00:19<00:00,  1.41it/s]\n",
      "  0%|          | 0/103 [00:00<?, ?it/s]"
     ]
    },
    {
     "name": "stdout",
     "output_type": "stream",
     "text": [
      "beginning epoch 37/200. lr=7.8125e-06\n"
     ]
    },
    {
     "name": "stderr",
     "output_type": "stream",
     "text": [
      "train 103/103 | cost: 8.1592 | ler: 70.225: 100%|██████████| 103/103 [01:23<00:00,  1.23it/s]\n",
      "validation 27/27 | cost: 8.3044 | ler: 70.213: 100%|██████████| 27/27 [00:19<00:00,  1.41it/s]\n",
      "  0%|          | 0/103 [00:00<?, ?it/s]"
     ]
    },
    {
     "name": "stdout",
     "output_type": "stream",
     "text": [
      "beginning epoch 38/200. lr=7.8125e-06\n"
     ]
    },
    {
     "name": "stderr",
     "output_type": "stream",
     "text": [
      "train 103/103 | cost: 8.3470 | ler: 72.022: 100%|██████████| 103/103 [01:22<00:00,  1.25it/s]\n",
      "validation 10/27 | cost: 7.7932 | ler: 67.874:  37%|███▋      | 10/27 [00:07<00:12,  1.41it/s]"
     ]
    },
    {
     "ename": "KeyboardInterrupt",
     "evalue": "",
     "output_type": "error",
     "traceback": [
      "\u001b[0;31m---------------------------------------------------------------------------\u001b[0m",
      "\u001b[0;31mKeyboardInterrupt\u001b[0m                         Traceback (most recent call last)",
      "\u001b[0;32m<ipython-input-9-42bfcc1d0f15>\u001b[0m in \u001b[0;36m<module>\u001b[0;34m()\u001b[0m\n\u001b[1;32m     60\u001b[0m                 \u001b[0mK\u001b[0m\u001b[0;34m.\u001b[0m\u001b[0mlearning_phase\u001b[0m\u001b[0;34m(\u001b[0m\u001b[0;34m)\u001b[0m\u001b[0;34m:\u001b[0m \u001b[0;36m0\u001b[0m\u001b[0;34m,\u001b[0m\u001b[0;34m\u001b[0m\u001b[0m\n\u001b[1;32m     61\u001b[0m             }\n\u001b[0;32m---> 62\u001b[0;31m             \u001b[0mbatch_cost\u001b[0m\u001b[0;34m,\u001b[0m \u001b[0mbatch_ler\u001b[0m \u001b[0;34m=\u001b[0m \u001b[0msess\u001b[0m\u001b[0;34m.\u001b[0m\u001b[0mrun\u001b[0m\u001b[0;34m(\u001b[0m\u001b[0;34m[\u001b[0m\u001b[0mcost\u001b[0m\u001b[0;34m,\u001b[0m \u001b[0mgreedy_ler\u001b[0m\u001b[0;34m]\u001b[0m\u001b[0;34m,\u001b[0m \u001b[0mfeed\u001b[0m\u001b[0;34m)\u001b[0m\u001b[0;34m\u001b[0m\u001b[0m\n\u001b[0m\u001b[1;32m     63\u001b[0m             \u001b[0mval_cost\u001b[0m\u001b[0;34m.\u001b[0m\u001b[0mappend\u001b[0m\u001b[0;34m(\u001b[0m\u001b[0mbatch_cost\u001b[0m\u001b[0;34m)\u001b[0m\u001b[0;34m\u001b[0m\u001b[0m\n\u001b[1;32m     64\u001b[0m             \u001b[0mval_ler\u001b[0m\u001b[0;34m.\u001b[0m\u001b[0mappend\u001b[0m\u001b[0;34m(\u001b[0m\u001b[0mbatch_ler\u001b[0m\u001b[0;34m*\u001b[0m\u001b[0;36m100\u001b[0m\u001b[0;34m)\u001b[0m\u001b[0;34m\u001b[0m\u001b[0m\n",
      "\u001b[0;32m/usr/local/lib/python3.5/dist-packages/tensorflow/python/client/session.py\u001b[0m in \u001b[0;36mrun\u001b[0;34m(self, fetches, feed_dict, options, run_metadata)\u001b[0m\n\u001b[1;32m    887\u001b[0m     \u001b[0;32mtry\u001b[0m\u001b[0;34m:\u001b[0m\u001b[0;34m\u001b[0m\u001b[0m\n\u001b[1;32m    888\u001b[0m       result = self._run(None, fetches, feed_dict, options_ptr,\n\u001b[0;32m--> 889\u001b[0;31m                          run_metadata_ptr)\n\u001b[0m\u001b[1;32m    890\u001b[0m       \u001b[0;32mif\u001b[0m \u001b[0mrun_metadata\u001b[0m\u001b[0;34m:\u001b[0m\u001b[0;34m\u001b[0m\u001b[0m\n\u001b[1;32m    891\u001b[0m         \u001b[0mproto_data\u001b[0m \u001b[0;34m=\u001b[0m \u001b[0mtf_session\u001b[0m\u001b[0;34m.\u001b[0m\u001b[0mTF_GetBuffer\u001b[0m\u001b[0;34m(\u001b[0m\u001b[0mrun_metadata_ptr\u001b[0m\u001b[0;34m)\u001b[0m\u001b[0;34m\u001b[0m\u001b[0m\n",
      "\u001b[0;32m/usr/local/lib/python3.5/dist-packages/tensorflow/python/client/session.py\u001b[0m in \u001b[0;36m_run\u001b[0;34m(self, handle, fetches, feed_dict, options, run_metadata)\u001b[0m\n\u001b[1;32m   1118\u001b[0m     \u001b[0;32mif\u001b[0m \u001b[0mfinal_fetches\u001b[0m \u001b[0;32mor\u001b[0m \u001b[0mfinal_targets\u001b[0m \u001b[0;32mor\u001b[0m \u001b[0;34m(\u001b[0m\u001b[0mhandle\u001b[0m \u001b[0;32mand\u001b[0m \u001b[0mfeed_dict_tensor\u001b[0m\u001b[0;34m)\u001b[0m\u001b[0;34m:\u001b[0m\u001b[0;34m\u001b[0m\u001b[0m\n\u001b[1;32m   1119\u001b[0m       results = self._do_run(handle, final_targets, final_fetches,\n\u001b[0;32m-> 1120\u001b[0;31m                              feed_dict_tensor, options, run_metadata)\n\u001b[0m\u001b[1;32m   1121\u001b[0m     \u001b[0;32melse\u001b[0m\u001b[0;34m:\u001b[0m\u001b[0;34m\u001b[0m\u001b[0m\n\u001b[1;32m   1122\u001b[0m       \u001b[0mresults\u001b[0m \u001b[0;34m=\u001b[0m \u001b[0;34m[\u001b[0m\u001b[0;34m]\u001b[0m\u001b[0;34m\u001b[0m\u001b[0m\n",
      "\u001b[0;32m/usr/local/lib/python3.5/dist-packages/tensorflow/python/client/session.py\u001b[0m in \u001b[0;36m_do_run\u001b[0;34m(self, handle, target_list, fetch_list, feed_dict, options, run_metadata)\u001b[0m\n\u001b[1;32m   1315\u001b[0m     \u001b[0;32mif\u001b[0m \u001b[0mhandle\u001b[0m \u001b[0;32mis\u001b[0m \u001b[0;32mNone\u001b[0m\u001b[0;34m:\u001b[0m\u001b[0;34m\u001b[0m\u001b[0m\n\u001b[1;32m   1316\u001b[0m       return self._do_call(_run_fn, self._session, feeds, fetches, targets,\n\u001b[0;32m-> 1317\u001b[0;31m                            options, run_metadata)\n\u001b[0m\u001b[1;32m   1318\u001b[0m     \u001b[0;32melse\u001b[0m\u001b[0;34m:\u001b[0m\u001b[0;34m\u001b[0m\u001b[0m\n\u001b[1;32m   1319\u001b[0m       \u001b[0;32mreturn\u001b[0m \u001b[0mself\u001b[0m\u001b[0;34m.\u001b[0m\u001b[0m_do_call\u001b[0m\u001b[0;34m(\u001b[0m\u001b[0m_prun_fn\u001b[0m\u001b[0;34m,\u001b[0m \u001b[0mself\u001b[0m\u001b[0;34m.\u001b[0m\u001b[0m_session\u001b[0m\u001b[0;34m,\u001b[0m \u001b[0mhandle\u001b[0m\u001b[0;34m,\u001b[0m \u001b[0mfeeds\u001b[0m\u001b[0;34m,\u001b[0m \u001b[0mfetches\u001b[0m\u001b[0;34m)\u001b[0m\u001b[0;34m\u001b[0m\u001b[0m\n",
      "\u001b[0;32m/usr/local/lib/python3.5/dist-packages/tensorflow/python/client/session.py\u001b[0m in \u001b[0;36m_do_call\u001b[0;34m(self, fn, *args)\u001b[0m\n\u001b[1;32m   1321\u001b[0m   \u001b[0;32mdef\u001b[0m \u001b[0m_do_call\u001b[0m\u001b[0;34m(\u001b[0m\u001b[0mself\u001b[0m\u001b[0;34m,\u001b[0m \u001b[0mfn\u001b[0m\u001b[0;34m,\u001b[0m \u001b[0;34m*\u001b[0m\u001b[0margs\u001b[0m\u001b[0;34m)\u001b[0m\u001b[0;34m:\u001b[0m\u001b[0;34m\u001b[0m\u001b[0m\n\u001b[1;32m   1322\u001b[0m     \u001b[0;32mtry\u001b[0m\u001b[0;34m:\u001b[0m\u001b[0;34m\u001b[0m\u001b[0m\n\u001b[0;32m-> 1323\u001b[0;31m       \u001b[0;32mreturn\u001b[0m \u001b[0mfn\u001b[0m\u001b[0;34m(\u001b[0m\u001b[0;34m*\u001b[0m\u001b[0margs\u001b[0m\u001b[0;34m)\u001b[0m\u001b[0;34m\u001b[0m\u001b[0m\n\u001b[0m\u001b[1;32m   1324\u001b[0m     \u001b[0;32mexcept\u001b[0m \u001b[0merrors\u001b[0m\u001b[0;34m.\u001b[0m\u001b[0mOpError\u001b[0m \u001b[0;32mas\u001b[0m \u001b[0me\u001b[0m\u001b[0;34m:\u001b[0m\u001b[0;34m\u001b[0m\u001b[0m\n\u001b[1;32m   1325\u001b[0m       \u001b[0mmessage\u001b[0m \u001b[0;34m=\u001b[0m \u001b[0mcompat\u001b[0m\u001b[0;34m.\u001b[0m\u001b[0mas_text\u001b[0m\u001b[0;34m(\u001b[0m\u001b[0me\u001b[0m\u001b[0;34m.\u001b[0m\u001b[0mmessage\u001b[0m\u001b[0;34m)\u001b[0m\u001b[0;34m\u001b[0m\u001b[0m\n",
      "\u001b[0;32m/usr/local/lib/python3.5/dist-packages/tensorflow/python/client/session.py\u001b[0m in \u001b[0;36m_run_fn\u001b[0;34m(session, feed_dict, fetch_list, target_list, options, run_metadata)\u001b[0m\n\u001b[1;32m   1300\u001b[0m           return tf_session.TF_Run(session, options,\n\u001b[1;32m   1301\u001b[0m                                    \u001b[0mfeed_dict\u001b[0m\u001b[0;34m,\u001b[0m \u001b[0mfetch_list\u001b[0m\u001b[0;34m,\u001b[0m \u001b[0mtarget_list\u001b[0m\u001b[0;34m,\u001b[0m\u001b[0;34m\u001b[0m\u001b[0m\n\u001b[0;32m-> 1302\u001b[0;31m                                    status, run_metadata)\n\u001b[0m\u001b[1;32m   1303\u001b[0m \u001b[0;34m\u001b[0m\u001b[0m\n\u001b[1;32m   1304\u001b[0m     \u001b[0;32mdef\u001b[0m \u001b[0m_prun_fn\u001b[0m\u001b[0;34m(\u001b[0m\u001b[0msession\u001b[0m\u001b[0;34m,\u001b[0m \u001b[0mhandle\u001b[0m\u001b[0;34m,\u001b[0m \u001b[0mfeed_dict\u001b[0m\u001b[0;34m,\u001b[0m \u001b[0mfetch_list\u001b[0m\u001b[0;34m)\u001b[0m\u001b[0;34m:\u001b[0m\u001b[0;34m\u001b[0m\u001b[0m\n",
      "\u001b[0;31mKeyboardInterrupt\u001b[0m: "
     ]
    }
   ],
   "source": [
    "num_epochs = 200\n",
    "train_steps = sum(ex_df.state.isin([\"train\"]))//N_BATCH\n",
    "val_steps = sum(ex_df.state.isin([\"val\", \"test\"]))//N_BATCH\n",
    "LR = 0.002\n",
    "LR_WINDOW = 3\n",
    "LR_STEP = .25\n",
    "STOP_WINDOW = 6\n",
    "\n",
    "with sess.as_default():\n",
    "    hist = {\n",
    "        \"train_cost\": [],\n",
    "        \"train_ler\": [],\n",
    "        \"val_cost\": [],\n",
    "        \"val_ler\": [],\n",
    "        \"lr\": []\n",
    "    }\n",
    "    \n",
    "    for epoch_i in range(num_epochs):\n",
    "        train_cost = []\n",
    "        train_ler = []\n",
    "    \n",
    "        print(\"beginning epoch {}/{}. lr={}\".format(epoch_i+1, num_epochs, LR))\n",
    "        \n",
    "        step_bar = tqdm(range(train_steps))\n",
    "        \n",
    "        for step_i in step_bar:\n",
    "            \n",
    "            train_batch = next(train_gen)\n",
    "            \n",
    "            feed = {\n",
    "                lr: LR,\n",
    "                wav_input: train_batch[\"wav\"],\n",
    "                sequence_length: train_batch[\"sequence_length\"],\n",
    "                labels: train_batch[\"labels\"],\n",
    "                K.learning_phase(): 1,\n",
    "            }\n",
    "#             optimizer.run(feed_dict=feed)\n",
    "            batch_cost, batch_ler, _, _ = sess.run([cost, greedy_ler, optimizer, base_model.updates], feed)\n",
    "            train_cost.append(batch_cost)\n",
    "            train_ler.append(batch_ler*100)\n",
    "            \n",
    "            step_bar.set_description(\"train {}/{} | cost: {:.4f} | ler: {:.3f}\".format(\n",
    "                step_i+1,\n",
    "                train_steps,\n",
    "                np.mean(train_cost), \n",
    "                np.mean(train_ler),\n",
    "            ))\n",
    "            \n",
    "        val_cost = []\n",
    "        val_ler = []\n",
    "        step_bar = tqdm(range(val_steps))\n",
    "        for step_i in step_bar:\n",
    "\n",
    "            val_batch = next(val_gen)\n",
    "            feed = {\n",
    "                lr: LR,\n",
    "                wav_input: val_batch['wav'],\n",
    "                sequence_length: val_batch['sequence_length'],\n",
    "                labels: val_batch['labels'],\n",
    "                K.learning_phase(): 0,\n",
    "            }\n",
    "            batch_cost, batch_ler = sess.run([cost, greedy_ler], feed)\n",
    "            val_cost.append(batch_cost)\n",
    "            val_ler.append(batch_ler*100)\n",
    "            \n",
    "            step_bar.set_description(\"validation {}/{} | cost: {:.4f} | ler: {:.3f}\".format(\n",
    "                step_i+1,\n",
    "                val_steps,\n",
    "                np.mean(val_cost), \n",
    "                np.mean(val_ler),\n",
    "            ))\n",
    "\n",
    "        \n",
    "        hist[\"train_cost\"].append(train_cost)\n",
    "        hist[\"train_ler\"].append(train_ler)\n",
    "        hist[\"val_cost\"].append(val_cost)\n",
    "        hist[\"val_ler\"].append(val_ler)\n",
    "        hist[\"lr\"].append(LR)\n",
    "        \n",
    "        out_means = np.mean(hist[\"val_ler\"], axis=1)\n",
    "        best_i = argmin(out_means)\n",
    "        \n",
    "        if epoch_i - best_i > LR_WINDOW:\n",
    "            print(\"reducing learning rate {:.4f}->{:.4f}\".format(\n",
    "                LR,\n",
    "                LR*LR_STEP\n",
    "            ))\n",
    "            LR = LR*LR_STEP\n",
    "                \n",
    "        if epoch_i - best_i > STOP_WINDOW:\n",
    "            print(\"early stopping!\")\n",
    "            break"
   ]
  },
  {
   "cell_type": "code",
   "execution_count": null,
   "metadata": {},
   "outputs": [],
   "source": []
  }
 ],
 "metadata": {
  "kernelspec": {
   "display_name": "Python 3",
   "language": "python",
   "name": "python3"
  },
  "language_info": {
   "codemirror_mode": {
    "name": "ipython",
    "version": 3
   },
   "file_extension": ".py",
   "mimetype": "text/x-python",
   "name": "python",
   "nbconvert_exporter": "python",
   "pygments_lexer": "ipython3",
   "version": "3.5.2"
  },
  "toc": {
   "nav_menu": {},
   "number_sections": true,
   "sideBar": true,
   "skip_h1_title": false,
   "toc_cell": false,
   "toc_position": {},
   "toc_section_display": "none",
   "toc_window_display": false
  },
  "varInspector": {
   "cols": {
    "lenName": 16,
    "lenType": 16,
    "lenVar": 40
   },
   "kernels_config": {
    "python": {
     "delete_cmd_postfix": "",
     "delete_cmd_prefix": "del ",
     "library": "var_list.py",
     "varRefreshCmd": "print(var_dic_list())"
    },
    "r": {
     "delete_cmd_postfix": ") ",
     "delete_cmd_prefix": "rm(",
     "library": "var_list.r",
     "varRefreshCmd": "cat(var_dic_list()) "
    }
   },
   "types_to_exclude": [
    "module",
    "function",
    "builtin_function_or_method",
    "instance",
    "_Feature"
   ],
   "window_display": false
  }
 },
 "nbformat": 4,
 "nbformat_minor": 2
}
