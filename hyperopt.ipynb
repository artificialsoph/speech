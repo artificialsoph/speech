{
 "cells": [
  {
   "cell_type": "code",
   "execution_count": 1,
   "metadata": {
    "ExecuteTime": {
     "end_time": "2017-12-03T03:27:03.909431Z",
     "start_time": "2017-12-03T03:27:02.679107Z"
    }
   },
   "outputs": [
    {
     "name": "stdout",
     "output_type": "stream",
     "text": [
      "Populating the interactive namespace from numpy and matplotlib\n"
     ]
    },
    {
     "name": "stderr",
     "output_type": "stream",
     "text": [
      "Using TensorFlow backend.\n"
     ]
    }
   ],
   "source": [
    "%pylab inline\n",
    "import keras\n",
    "from sklearn import utils\n",
    "from hyperopt import hp, fmin, tpe"
   ]
  },
  {
   "cell_type": "code",
   "execution_count": 2,
   "metadata": {
    "ExecuteTime": {
     "end_time": "2017-12-02T23:50:57.273639Z",
     "start_time": "2017-12-02T23:50:53.070896Z"
    }
   },
   "outputs": [],
   "source": [
    "xy = np.load('data/xy.npz')\n",
    "\n",
    "x = xy[\"x\"]\n",
    "y = xy[\"y\"]\n",
    "\n",
    "num_cat = y.max() + 1\n",
    "\n",
    "classes = np.arange(num_cat)\n",
    "cw = utils.class_weight.compute_class_weight(\"balanced\",classes.flat, y.flat)\n",
    "cw = dict(zip(classes,cw))"
   ]
  },
  {
   "cell_type": "code",
   "execution_count": 2,
   "metadata": {
    "ExecuteTime": {
     "end_time": "2017-12-03T03:27:16.320583Z",
     "start_time": "2017-12-03T03:27:05.937531Z"
    }
   },
   "outputs": [],
   "source": [
    "xy = np.load('data/xy-spec.npz')\n",
    "\n",
    "x = xy[\"x\"]\n",
    "y = xy[\"y\"]\n",
    "\n",
    "num_cat = y.max() + 1\n",
    "\n",
    "classes = np.arange(num_cat)\n",
    "cw = utils.class_weight.compute_class_weight(\"balanced\",classes.flat, y.flat)\n",
    "cw = dict(zip(classes,cw))"
   ]
  },
  {
   "cell_type": "code",
   "execution_count": 3,
   "metadata": {
    "ExecuteTime": {
     "end_time": "2017-12-02T23:50:58.075446Z",
     "start_time": "2017-12-02T23:50:58.072499Z"
    }
   },
   "outputs": [],
   "source": [
    "space = {\n",
    "    \"dropout_prob\": hp.uniform(\"dropout_prob\", 0,1),\n",
    "    \"batch_size\": hp.choice(\"batch_size\", )\n",
    "}"
   ]
  },
  {
   "cell_type": "code",
   "execution_count": 3,
   "metadata": {
    "ExecuteTime": {
     "end_time": "2017-12-03T03:27:36.862383Z",
     "start_time": "2017-12-03T03:27:36.476447Z"
    }
   },
   "outputs": [
    {
     "name": "stdout",
     "output_type": "stream",
     "text": [
      "_________________________________________________________________\n",
      "Layer (type)                 Output Shape              Param #   \n",
      "=================================================================\n",
      "input_1 (InputLayer)         (None, 129, 124, 1)       0         \n",
      "_________________________________________________________________\n",
      "conv2d_1 (Conv2D)            (None, 129, 124, 64)      1088      \n",
      "_________________________________________________________________\n",
      "batch_normalization_1 (Batch (None, 129, 124, 64)      256       \n",
      "_________________________________________________________________\n",
      "dropout_1 (Dropout)          (None, 129, 124, 64)      0         \n",
      "_________________________________________________________________\n",
      "max_pooling2d_1 (MaxPooling2 (None, 65, 62, 64)        0         \n",
      "_________________________________________________________________\n",
      "conv2d_2 (Conv2D)            (None, 65, 62, 64)        65600     \n",
      "_________________________________________________________________\n",
      "batch_normalization_2 (Batch (None, 65, 62, 64)        256       \n",
      "_________________________________________________________________\n",
      "dropout_2 (Dropout)          (None, 65, 62, 64)        0         \n",
      "_________________________________________________________________\n",
      "max_pooling2d_2 (MaxPooling2 (None, 33, 31, 64)        0         \n",
      "_________________________________________________________________\n",
      "conv2d_3 (Conv2D)            (None, 33, 31, 32)        32800     \n",
      "_________________________________________________________________\n",
      "batch_normalization_3 (Batch (None, 33, 31, 32)        128       \n",
      "_________________________________________________________________\n",
      "dropout_3 (Dropout)          (None, 33, 31, 32)        0         \n",
      "_________________________________________________________________\n",
      "max_pooling2d_3 (MaxPooling2 (None, 17, 16, 32)        0         \n",
      "_________________________________________________________________\n",
      "conv2d_4 (Conv2D)            (None, 17, 16, 16)        8208      \n",
      "_________________________________________________________________\n",
      "batch_normalization_4 (Batch (None, 17, 16, 16)        64        \n",
      "_________________________________________________________________\n",
      "dropout_4 (Dropout)          (None, 17, 16, 16)        0         \n",
      "_________________________________________________________________\n",
      "max_pooling2d_4 (MaxPooling2 (None, 9, 8, 16)          0         \n",
      "_________________________________________________________________\n",
      "flatten_1 (Flatten)          (None, 1152)              0         \n",
      "_________________________________________________________________\n",
      "dense_1 (Dense)              (None, 128)               147584    \n",
      "_________________________________________________________________\n",
      "dropout_5 (Dropout)          (None, 128)               0         \n",
      "_________________________________________________________________\n",
      "dense_2 (Dense)              (None, 12)                1548      \n",
      "=================================================================\n",
      "Total params: 257,532\n",
      "Trainable params: 257,180\n",
      "Non-trainable params: 352\n",
      "_________________________________________________________________\n"
     ]
    }
   ],
   "source": [
    "dropout_prob = .5\n",
    "init_stddev = 0.01\n",
    "\n",
    "kernel_size = (4,4)\n",
    "\n",
    "cnn_layers =[\n",
    "    keras.layers.InputLayer(input_shape=x.shape[1:]),\n",
    "\n",
    "    # Conv layer\n",
    "    keras.layers.Conv2D(\n",
    "        64,\n",
    "        kernel_size=kernel_size,\n",
    "        padding=\"same\",\n",
    "        activation=\"elu\",\n",
    "        kernel_initializer=keras.initializers.TruncatedNormal(\n",
    "            stddev=init_stddev)),\n",
    "    keras.layers.BatchNormalization(),\n",
    "    keras.layers.Dropout(dropout_prob),\n",
    "    keras.layers.MaxPool2D(pool_size=(2, 2), padding=\"same\"),\n",
    "    \n",
    "    keras.layers.Conv2D(\n",
    "        64,\n",
    "        kernel_size=kernel_size,\n",
    "        padding=\"same\",\n",
    "        activation=\"elu\",\n",
    "        kernel_initializer=keras.initializers.TruncatedNormal(\n",
    "            stddev=init_stddev)),\n",
    "    keras.layers.BatchNormalization(),\n",
    "    keras.layers.Dropout(dropout_prob),\n",
    "    keras.layers.MaxPool2D(pool_size=(2, 2), padding=\"same\"),\n",
    "    \n",
    "    keras.layers.Conv2D(\n",
    "        32,\n",
    "        kernel_size=kernel_size,\n",
    "        padding=\"same\",\n",
    "        activation=\"elu\",\n",
    "        kernel_initializer=keras.initializers.TruncatedNormal(\n",
    "            stddev=init_stddev)),\n",
    "    keras.layers.BatchNormalization(),\n",
    "    keras.layers.Dropout(dropout_prob),\n",
    "    keras.layers.MaxPool2D(pool_size=(2, 2), padding=\"same\"),\n",
    "    \n",
    "    keras.layers.Conv2D(\n",
    "        16,\n",
    "        kernel_size=kernel_size,\n",
    "        padding=\"same\",\n",
    "        activation=\"elu\",\n",
    "        kernel_initializer=keras.initializers.TruncatedNormal(\n",
    "            stddev=init_stddev)),\n",
    "    keras.layers.BatchNormalization(),\n",
    "    keras.layers.Dropout(dropout_prob),\n",
    "    keras.layers.MaxPool2D(pool_size=(2, 2), padding=\"same\"),\n",
    "    \n",
    "    keras.layers.Flatten(),\n",
    "\n",
    "    # Hidden Layer 1\n",
    "    keras.layers.Dense(\n",
    "        128,\n",
    "        activation=\"elu\",\n",
    "        kernel_initializer=keras.initializers.TruncatedNormal(\n",
    "            stddev=init_stddev)),\n",
    "    keras.layers.Dropout(dropout_prob),\n",
    "\n",
    "    # Classification Layer\n",
    "    keras.layers.Dense(\n",
    "        num_cat,\n",
    "        activation=\"softmax\",\n",
    "        kernel_initializer=keras.initializers.TruncatedNormal(\n",
    "            stddev=init_stddev)),\n",
    "]\n",
    "cnn_model = keras.Sequential(cnn_layers)\n",
    "cnn_model.summary()\n",
    "\n"
   ]
  },
  {
   "cell_type": "code",
   "execution_count": 5,
   "metadata": {
    "ExecuteTime": {
     "end_time": "2017-12-03T04:01:29.322451Z",
     "start_time": "2017-12-03T03:28:02.140214Z"
    }
   },
   "outputs": [
    {
     "name": "stdout",
     "output_type": "stream",
     "text": [
      "Train on 52888 samples, validate on 7058 samples\n",
      "Epoch 1/100\n",
      "52888/52888 [==============================] - 286s 5ms/step - loss: 2.2057 - acc: 0.0793 - val_loss: 15.5243 - val_acc: 0.0368\n",
      "Epoch 3/100\n",
      "52736/52888 [============================>.] - ETA: 0s - loss: 2.2034 - acc: 0.0828\n",
      "Epoch 00003: reducing learning rate to 0.0004000000189989805.\n",
      "52888/52888 [==============================] - 286s 5ms/step - loss: 2.2035 - acc: 0.0836 - val_loss: 15.5243 - val_acc: 0.0368\n",
      "Epoch 4/100\n",
      "52888/52888 [==============================] - 286s 5ms/step - loss: 2.2173 - acc: 0.0896 - val_loss: 2.3534 - val_acc: 0.0731\n",
      "Epoch 5/100\n",
      "52888/52888 [==============================] - 286s 5ms/step - loss: 2.1983 - acc: 0.0912 - val_loss: 6.6651 - val_acc: 0.0368\n",
      "Epoch 6/100\n",
      "52736/52888 [============================>.] - ETA: 0s - loss: 2.1884 - acc: 0.0848\n",
      "Epoch 00006: reducing learning rate to 8.000000379979611e-05.\n",
      "52888/52888 [==============================] - 286s 5ms/step - loss: 2.1893 - acc: 0.0848 - val_loss: 15.5243 - val_acc: 0.0368\n",
      "Epoch 7/100\n",
      "52736/52888 [============================>.] - ETA: 0s - loss: 2.1810 - acc: 0.0872\n",
      "Epoch 00007: reducing learning rate to 1.6000001050997525e-05.\n",
      "52888/52888 [==============================] - 286s 5ms/step - loss: 2.1813 - acc: 0.0873 - val_loss: 15.5243 - val_acc: 0.0368\n",
      "Epoch 00007: early stopping\n"
     ]
    },
    {
     "data": {
      "text/plain": [
       "2.3534297524919854"
      ]
     },
     "execution_count": 5,
     "metadata": {},
     "output_type": "execute_result"
    }
   ],
   "source": [
    "batch_size = 256\n",
    "\n",
    "callbacks = [\n",
    "    keras.callbacks.EarlyStopping(patience=3, verbose=1),\n",
    "    keras.callbacks.ReduceLROnPlateau(\n",
    "        factor=0.2, patience=1, verbose=1, min_lr=1e-6)\n",
    "]\n",
    "\n",
    "cnn_model.compile(\n",
    "    loss='sparse_categorical_crossentropy',\n",
    "    optimizer='nadam',\n",
    "    metrics=['accuracy'])\n",
    "\n",
    "history = cnn_model.fit(\n",
    "    batch_size=batch_size,\n",
    "    x=x,\n",
    "    y=y,\n",
    "    class_weight=cw,\n",
    "    validation_data=(xy[\"x_val\"], xy[\"y_val\"]),\n",
    "    epochs=100,\n",
    "    verbose=1,\n",
    "    callbacks=callbacks,\n",
    "    initial_epoch=0)\n",
    "np.min(history.history[\"val_loss\"])"
   ]
  },
  {
   "cell_type": "code",
   "execution_count": 33,
   "metadata": {
    "ExecuteTime": {
     "end_time": "2017-12-03T01:59:10.708501Z",
     "start_time": "2017-12-03T01:49:56.950899Z"
    }
   },
   "outputs": [
    {
     "name": "stdout",
     "output_type": "stream",
     "text": [
      "_________________________________________________________________\n",
      "Layer (type)                 Output Shape              Param #   \n",
      "=================================================================\n",
      "input_21 (InputLayer)        (None, 128, 32, 1)        0         \n",
      "_________________________________________________________________\n",
      "batch_normalization_19 (Batc (None, 128, 32, 1)        4         \n",
      "_________________________________________________________________\n",
      "conv2d_35 (Conv2D)           (None, 121, 1, 186)       47802     \n",
      "_________________________________________________________________\n",
      "batch_normalization_20 (Batc (None, 121, 1, 186)       744       \n",
      "_________________________________________________________________\n",
      "dropout_62 (Dropout)         (None, 121, 1, 186)       0         \n",
      "_________________________________________________________________\n",
      "conv2d_36 (Conv2D)           (None, 29, 1, 186)        276954    \n",
      "_________________________________________________________________\n",
      "batch_normalization_21 (Batc (None, 29, 1, 186)        744       \n",
      "_________________________________________________________________\n",
      "dropout_63 (Dropout)         (None, 29, 1, 186)        0         \n",
      "_________________________________________________________________\n",
      "conv2d_37 (Conv2D)           (None, 26, 1, 186)        138570    \n",
      "_________________________________________________________________\n",
      "batch_normalization_22 (Batc (None, 26, 1, 186)        744       \n",
      "_________________________________________________________________\n",
      "dropout_64 (Dropout)         (None, 26, 1, 186)        0         \n",
      "_________________________________________________________________\n",
      "conv2d_38 (Conv2D)           (None, 12, 1, 186)        138570    \n",
      "_________________________________________________________________\n",
      "batch_normalization_23 (Batc (None, 12, 1, 186)        744       \n",
      "_________________________________________________________________\n",
      "dropout_65 (Dropout)         (None, 12, 1, 186)        0         \n",
      "_________________________________________________________________\n",
      "flatten_21 (Flatten)         (None, 2232)              0         \n",
      "_________________________________________________________________\n",
      "dense_41 (Dense)             (None, 500)               1116500   \n",
      "_________________________________________________________________\n",
      "dropout_66 (Dropout)         (None, 500)               0         \n",
      "_________________________________________________________________\n",
      "dense_42 (Dense)             (None, 12)                6012      \n",
      "=================================================================\n",
      "Total params: 1,727,388\n",
      "Trainable params: 1,725,898\n",
      "Non-trainable params: 1,490\n",
      "_________________________________________________________________\n",
      "Train on 52888 samples, validate on 7058 samples\n",
      "Epoch 1/100\n",
      "52888/52888 [==============================] - 37s 695us/step - loss: 2.2960 - acc: 0.1749 - val_loss: 2.2338 - val_acc: 0.1968\n",
      "Epoch 2/100\n",
      "52888/52888 [==============================] - 34s 649us/step - loss: 1.9338 - acc: 0.2421 - val_loss: 1.7657 - val_acc: 0.3371\n",
      "Epoch 3/100\n",
      "52888/52888 [==============================] - 34s 647us/step - loss: 1.7340 - acc: 0.2816 - val_loss: 1.8374 - val_acc: 0.3239\n",
      "Epoch 4/100\n",
      "52832/52888 [============================>.] - ETA: 0s - loss: 1.6626 - acc: 0.2955\n",
      "Epoch 00004: reducing learning rate to 0.0004000000189989805.\n",
      "52888/52888 [==============================] - 35s 654us/step - loss: 1.6620 - acc: 0.2954 - val_loss: 1.9649 - val_acc: 0.2666\n",
      "Epoch 5/100\n",
      "52888/52888 [==============================] - 34s 648us/step - loss: 1.4609 - acc: 0.3360 - val_loss: 1.6685 - val_acc: 0.3738\n",
      "Epoch 6/100\n",
      "52888/52888 [==============================] - 34s 648us/step - loss: 1.3902 - acc: 0.3634 - val_loss: 1.6741 - val_acc: 0.3790\n",
      "Epoch 7/100\n",
      "52888/52888 [==============================] - 34s 649us/step - loss: 1.3436 - acc: 0.3736 - val_loss: 1.5986 - val_acc: 0.4109\n",
      "Epoch 8/100\n",
      "52888/52888 [==============================] - 34s 649us/step - loss: 1.3182 - acc: 0.3847 - val_loss: 1.7122 - val_acc: 0.3868\n",
      "Epoch 9/100\n",
      "52888/52888 [==============================] - 34s 649us/step - loss: 1.2968 - acc: 0.3873 - val_loss: 1.5705 - val_acc: 0.4177\n",
      "Epoch 10/100\n",
      "52888/52888 [==============================] - 34s 649us/step - loss: 1.2664 - acc: 0.3985 - val_loss: 1.5570 - val_acc: 0.4185\n",
      "Epoch 11/100\n",
      "52888/52888 [==============================] - 34s 649us/step - loss: 1.2420 - acc: 0.4078 - val_loss: 1.6007 - val_acc: 0.4052\n",
      "Epoch 12/100\n",
      "52832/52888 [============================>.] - ETA: 0s - loss: 1.2132 - acc: 0.4148\n",
      "Epoch 00012: reducing learning rate to 8.000000379979611e-05.\n",
      "52888/52888 [==============================] - 34s 649us/step - loss: 1.2133 - acc: 0.4148 - val_loss: 1.6462 - val_acc: 0.4082\n",
      "Epoch 13/100\n",
      "52888/52888 [==============================] - 34s 650us/step - loss: 1.1708 - acc: 0.4252 - val_loss: 1.5143 - val_acc: 0.4419\n",
      "Epoch 14/100\n",
      "52888/52888 [==============================] - 34s 649us/step - loss: 1.1559 - acc: 0.4301 - val_loss: 1.5453 - val_acc: 0.4311\n",
      "Epoch 15/100\n",
      "52832/52888 [============================>.] - ETA: 0s - loss: 1.1511 - acc: 0.4300\n",
      "Epoch 00015: reducing learning rate to 1.6000001050997525e-05.\n",
      "52888/52888 [==============================] - 34s 649us/step - loss: 1.1510 - acc: 0.4300 - val_loss: 1.5177 - val_acc: 0.4399\n",
      "Epoch 16/100\n",
      "52832/52888 [============================>.] - ETA: 0s - loss: 1.1346 - acc: 0.4342\n",
      "Epoch 00016: reducing learning rate to 3.2000003557186575e-06.\n",
      "52888/52888 [==============================] - 34s 649us/step - loss: 1.1344 - acc: 0.4341 - val_loss: 1.5152 - val_acc: 0.4439\n",
      "Epoch 00016: early stopping\n"
     ]
    },
    {
     "data": {
      "text/plain": [
       "1.5142989171783423"
      ]
     },
     "execution_count": 33,
     "metadata": {},
     "output_type": "execute_result"
    }
   ],
   "source": [
    "dropout_prob = .5\n",
    "init_stddev = 0.01\n",
    "\n",
    "cnn_layers =[\n",
    "    keras.layers.InputLayer(input_shape=x.shape[1:]),\n",
    "    \n",
    "    keras.layers.BatchNormalization(),\n",
    "\n",
    "    # Conv layer\n",
    "    keras.layers.Conv2D(\n",
    "        186,\n",
    "        kernel_size=(8, x.shape[2]),\n",
    "        padding=\"valid\",\n",
    "        activation=\"elu\",\n",
    "        kernel_initializer=keras.initializers.TruncatedNormal(\n",
    "            stddev=init_stddev)),\n",
    "    keras.layers.BatchNormalization(),\n",
    "    keras.layers.Dropout(dropout_prob),\n",
    "    \n",
    "    keras.layers.Conv2D(\n",
    "        186,\n",
    "        kernel_size=(8, 1),\n",
    "        strides=(4, 1),\n",
    "        padding=\"valid\",\n",
    "        activation=\"elu\",\n",
    "        kernel_initializer=keras.initializers.TruncatedNormal(\n",
    "            stddev=init_stddev)),\n",
    "    keras.layers.BatchNormalization(),\n",
    "    keras.layers.Dropout(dropout_prob),\n",
    "    \n",
    "    keras.layers.Conv2D(\n",
    "        186,\n",
    "        kernel_size=(4, 1),\n",
    "        strides=(1, 1),\n",
    "        padding=\"valid\",\n",
    "        activation=\"elu\",\n",
    "        kernel_initializer=keras.initializers.TruncatedNormal(\n",
    "            stddev=init_stddev)),\n",
    "    keras.layers.BatchNormalization(),\n",
    "    keras.layers.Dropout(dropout_prob),\n",
    "    \n",
    "    keras.layers.Conv2D(\n",
    "        186,\n",
    "        kernel_size=(4, 1),\n",
    "        strides=(2, 1),\n",
    "        padding=\"valid\",\n",
    "        activation=\"elu\",\n",
    "        kernel_initializer=keras.initializers.TruncatedNormal(\n",
    "            stddev=init_stddev)),\n",
    "    keras.layers.BatchNormalization(),\n",
    "    keras.layers.Dropout(dropout_prob),\n",
    "    \n",
    "    keras.layers.Flatten(),\n",
    "\n",
    "    # Hidden Layer 1\n",
    "    keras.layers.Dense(\n",
    "        500,\n",
    "        activation=\"elu\",\n",
    "        kernel_initializer=keras.initializers.TruncatedNormal(\n",
    "            stddev=init_stddev)),\n",
    "    keras.layers.Dropout(dropout_prob),\n",
    "\n",
    "    # Classification Layer\n",
    "    keras.layers.Dense(\n",
    "        num_cat,\n",
    "        activation=\"softmax\",\n",
    "        kernel_initializer=keras.initializers.TruncatedNormal(\n",
    "            stddev=init_stddev)),\n",
    "]\n",
    "cnn_model = keras.Sequential(cnn_layers)\n",
    "cnn_model.summary()\n",
    "\n",
    "callbacks = [\n",
    "    keras.callbacks.EarlyStopping(patience=3, verbose=1),\n",
    "    keras.callbacks.ReduceLROnPlateau(\n",
    "        factor=0.2, patience=1, verbose=1, min_lr=1e-6)\n",
    "]\n",
    "\n",
    "cnn_model.compile(\n",
    "    loss='sparse_categorical_crossentropy',\n",
    "    optimizer='nadam',\n",
    "    metrics=['accuracy'])\n",
    "\n",
    "history = cnn_model.fit(\n",
    "    x=x,\n",
    "    y=y,\n",
    "    class_weight=cw,\n",
    "    validation_data=(xy[\"x_val\"], xy[\"y_val\"]),\n",
    "    epochs=100,\n",
    "    verbose=1,\n",
    "    callbacks=callbacks,\n",
    "    initial_epoch=0)\n",
    "np.min(history.history[\"val_loss\"])"
   ]
  },
  {
   "cell_type": "code",
   "execution_count": null,
   "metadata": {},
   "outputs": [],
   "source": []
  }
 ],
 "metadata": {
  "kernelspec": {
   "display_name": "Python 3",
   "language": "python",
   "name": "python3"
  },
  "language_info": {
   "codemirror_mode": {
    "name": "ipython",
    "version": 3
   },
   "file_extension": ".py",
   "mimetype": "text/x-python",
   "name": "python",
   "nbconvert_exporter": "python",
   "pygments_lexer": "ipython3",
   "version": "3.5.2"
  },
  "toc": {
   "nav_menu": {},
   "number_sections": true,
   "sideBar": true,
   "skip_h1_title": false,
   "toc_cell": false,
   "toc_position": {},
   "toc_section_display": "block",
   "toc_window_display": false
  },
  "varInspector": {
   "cols": {
    "lenName": 16,
    "lenType": 16,
    "lenVar": 40
   },
   "kernels_config": {
    "python": {
     "delete_cmd_postfix": "",
     "delete_cmd_prefix": "del ",
     "library": "var_list.py",
     "varRefreshCmd": "print(var_dic_list())"
    },
    "r": {
     "delete_cmd_postfix": ") ",
     "delete_cmd_prefix": "rm(",
     "library": "var_list.r",
     "varRefreshCmd": "cat(var_dic_list()) "
    }
   },
   "types_to_exclude": [
    "module",
    "function",
    "builtin_function_or_method",
    "instance",
    "_Feature"
   ],
   "window_display": false
  }
 },
 "nbformat": 4,
 "nbformat_minor": 2
}
