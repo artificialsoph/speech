{
 "cells": [
  {
   "cell_type": "code",
   "execution_count": 1,
   "metadata": {
    "ExecuteTime": {
     "end_time": "2018-01-18T22:13:51.462233Z",
     "start_time": "2018-01-18T22:13:49.376622Z"
    }
   },
   "outputs": [
    {
     "name": "stdout",
     "output_type": "stream",
     "text": [
      "Populating the interactive namespace from numpy and matplotlib\n"
     ]
    },
    {
     "name": "stderr",
     "output_type": "stream",
     "text": [
      "Using TensorFlow backend.\n",
      "/usr/local/lib/python3.5/dist-packages/scipy/io/wavfile.py:273: WavFileWarning: Chunk (non-data) not understood, skipping it.\n",
      "  WavFileWarning)\n"
     ]
    }
   ],
   "source": [
    "%pylab inline\n",
    "\n",
    "import pandas as pd\n",
    "import nltk\n",
    "\n",
    "import kapre\n",
    "import arrow\n",
    "import pprint\n",
    "import threading\n",
    "import pprint\n",
    "from tqdm import tqdm\n",
    "\n",
    "from soph import MFCC, center_wave, Delta\n",
    "from soph import ex_generator as old_gen\n",
    "\n",
    "import tensorflow as tf\n",
    "config = tf.ConfigProto(allow_soft_placement = True)\n",
    "sess = tf.Session(config = config)\n",
    "\n",
    "import keras\n",
    "import keras.backend as K\n",
    "K.set_session(sess)\n",
    "\n",
    "\n",
    "ex_df = pd.read_pickle(\"data/ex_df.pkl\")"
   ]
  },
  {
   "cell_type": "code",
   "execution_count": 2,
   "metadata": {
    "ExecuteTime": {
     "end_time": "2018-01-18T22:13:51.472888Z",
     "start_time": "2018-01-18T22:13:51.464544Z"
    }
   },
   "outputs": [
    {
     "data": {
      "text/plain": [
       "[name: \"/device:CPU:0\"\n",
       " device_type: \"CPU\"\n",
       " memory_limit: 268435456\n",
       " locality {\n",
       " }\n",
       " incarnation: 9906522733480974406, name: \"/device:GPU:0\"\n",
       " device_type: \"GPU\"\n",
       " memory_limit: 357957632\n",
       " locality {\n",
       "   bus_id: 1\n",
       " }\n",
       " incarnation: 17820599789477874000\n",
       " physical_device_desc: \"device: 0, name: Tesla K80, pci bus id: 0000:00:1e.0, compute capability: 3.7\"]"
      ]
     },
     "execution_count": 2,
     "metadata": {},
     "output_type": "execute_result"
    }
   ],
   "source": [
    "from tensorflow.python.client import device_lib\n",
    "device_lib.list_local_devices()"
   ]
  },
  {
   "cell_type": "markdown",
   "metadata": {},
   "source": [
    "# Utility code"
   ]
  },
  {
   "cell_type": "code",
   "execution_count": 3,
   "metadata": {
    "ExecuteTime": {
     "end_time": "2018-01-18T22:13:52.569818Z",
     "start_time": "2018-01-18T22:13:51.474548Z"
    }
   },
   "outputs": [
    {
     "name": "stdout",
     "output_type": "stream",
     "text": [
      "[nltk_data] Downloading package cmudict to /home/ubuntu/nltk_data...\n",
      "[nltk_data]   Package cmudict is already up-to-date!\n",
      "right [['R', 'AY1', 'T']]\n",
      "eight [['EY1', 'T']]\n",
      "cat [['K', 'AE1', 'T']]\n",
      "tree [['T', 'R', 'IY1']]\n",
      "bed [['B', 'EH1', 'D']]\n",
      "happy [['HH', 'AE1', 'P', 'IY0']]\n",
      "go [['G', 'OW1']]\n",
      "dog [['D', 'AO1', 'G']]\n",
      "no [['N', 'OW1']]\n",
      "wow [['W', 'AW1']]\n",
      "nine [['N', 'AY1', 'N']]\n",
      "left [['L', 'EH1', 'F', 'T']]\n",
      "stop [['S', 'T', 'AA1', 'P']]\n",
      "three [['TH', 'R', 'IY1']]\n",
      "sheila [['SH', 'IY1', 'L', 'AH0']]\n",
      "one [['W', 'AH1', 'N'], ['HH', 'W', 'AH1', 'N']]\n",
      "bird [['B', 'ER1', 'D']]\n",
      "zero [['Z', 'IH1', 'R', 'OW0'], ['Z', 'IY1', 'R', 'OW0']]\n",
      "seven [['S', 'EH1', 'V', 'AH0', 'N']]\n",
      "up [['AH1', 'P']]\n",
      "marvin [['M', 'AA1', 'R', 'V', 'IH0', 'N']]\n",
      "two [['T', 'UW1']]\n",
      "house [['HH', 'AW1', 'S']]\n",
      "down [['D', 'AW1', 'N']]\n",
      "six [['S', 'IH1', 'K', 'S']]\n",
      "yes [['Y', 'EH1', 'S']]\n",
      "on [['AA1', 'N'], ['AO1', 'N']]\n",
      "five [['F', 'AY1', 'V']]\n",
      "off [['AO1', 'F']]\n",
      "four [['F', 'AO1', 'R']]\n",
      "34 phonemes in alphabet\n",
      "['AA', 'AE', 'AH', 'AO', 'AW', 'AY', 'B', 'D', 'EH', 'ER', 'EY', 'F', 'G', 'HH',\n",
      " 'IH', 'IY', 'K', 'L', 'M', 'N', 'OW', 'P', 'R', 'S', 'SH', 'T', 'TH', 'UW',\n",
      " 'V', 'W', 'Y', 'Z', 'sil', '*']\n"
     ]
    }
   ],
   "source": [
    "nltk.download('cmudict')\n",
    "arpabet = nltk.corpus.cmudict.dict()\n",
    "\n",
    "words = list(ex_df.raw_label.unique())\n",
    "words.remove(np.nan)\n",
    "words.remove(\"silence\")\n",
    "\n",
    "phone_dict = dict()\n",
    "phone_set = set()\n",
    "maxlen = 0\n",
    "for w in words:\n",
    "    print(w, arpabet[w])\n",
    "    phones = arpabet[w][0]\n",
    "    phones = [p.strip(\"012\") for p in phones] #remove emphasis on vowels\n",
    "    phones_b = phones\n",
    "    phone_dict[w] = phones_b\n",
    "    phone_set |= set(phones)\n",
    "    if (len(phones_b)) > maxlen:\n",
    "        maxlen = len(phones_b)\n",
    "phone_dict[\"silence\"] = [\"sil\"]\n",
    "alphabet = sorted(list(phone_set)) + [\"sil\"] + [\"*\"]\n",
    "\n",
    "def text_to_labels(text):\n",
    "    phones = phone_dict[text]\n",
    "    ret = [alphabet.index(p) for p in phones]\n",
    "    return ret\n",
    "\n",
    "N_CAT = len(alphabet)\n",
    "# pprint.pprint(phone_dict, compact=True)\n",
    "print(\"{} phonemes in alphabet\".format(N_CAT))\n",
    "\n",
    "pprint.pprint(alphabet, compact=True)"
   ]
  },
  {
   "cell_type": "code",
   "execution_count": 4,
   "metadata": {
    "ExecuteTime": {
     "end_time": "2018-01-18T22:13:52.635798Z",
     "start_time": "2018-01-18T22:13:52.571588Z"
    }
   },
   "outputs": [],
   "source": [
    "def ex_generator(\n",
    "        batch_size=32,\n",
    "        shuffle=True,\n",
    "        state=[\"train\"],\n",
    "        p_transform=0,\n",
    "        vol_range=0,\n",
    "        shift=0,\n",
    "):\n",
    "\n",
    "    epoch_df = ex_df[ex_df.state.isin(state)]\n",
    "    num_ex = len(epoch_df)\n",
    "    indices = np.arange(num_ex)\n",
    "\n",
    "    # epoch loop runs\n",
    "    while True:\n",
    "\n",
    "        # shuffle anew every epoch\n",
    "        if shuffle:\n",
    "            epoch_df = epoch_df.sample(frac=1)\n",
    "\n",
    "        # batch loop\n",
    "        for i in np.arange(0, num_ex, batch_size):\n",
    "\n",
    "            if i+batch_size > num_ex:\n",
    "                continue\n",
    "            \n",
    "            batch_df = epoch_df.iloc[i:i + batch_size, :]\n",
    "\n",
    "            x = np.zeros((len(batch_df), 16000))\n",
    "            indices = []\n",
    "            values = []\n",
    "\n",
    "            # example loop\n",
    "            for b in range(len(batch_df)):\n",
    "\n",
    "                x[b, ...] = center_wave(\n",
    "                    epoch_df.fn.values[b],\n",
    "                    vol_range=vol_range,\n",
    "                    shift=shift,\n",
    "                    p_transform=p_transform)\n",
    "\n",
    "                labels_i = text_to_labels(epoch_df.raw_label.values[b])\n",
    "                \n",
    "                for t,v in enumerate(labels_i):\n",
    "                    indices.append([b,t])\n",
    "                    values.append(v)\n",
    "                    \n",
    "\n",
    "\n",
    "            indices = np.array(indices, dtype='int32')\n",
    "            values = np.array(values, dtype='int32')\n",
    "            shape = np.array([len(batch_df), maxlen], dtype='int32')\n",
    "            sequence_length = np.full((len(batch_df),), 100, dtype='int32')\n",
    "\n",
    "            yield {\"wav\":x, \n",
    "                   \"labels\": (indices, values, shape),\n",
    "                   \"sequence_length\": sequence_length}\n"
   ]
  },
  {
   "cell_type": "code",
   "execution_count": 5,
   "metadata": {
    "ExecuteTime": {
     "end_time": "2018-01-18T22:13:52.644683Z",
     "start_time": "2018-01-18T22:13:52.637681Z"
    }
   },
   "outputs": [],
   "source": [
    "N_SEQ = 100\n",
    "SR = 16000\n",
    "F_STEP = SR // N_SEQ\n",
    "F_LEN = (5 * F_STEP) // 2\n",
    "N_FFT = 512\n",
    "N_MEL = 30\n",
    "N_MFCC = 15\n",
    "MAX_F = 4000\n",
    "MIN_F = 40\n",
    "\n",
    "# DROP = .5\n",
    "NOISE = .75"
   ]
  },
  {
   "cell_type": "code",
   "execution_count": 6,
   "metadata": {
    "ExecuteTime": {
     "end_time": "2018-01-18T22:13:56.508309Z",
     "start_time": "2018-01-18T22:13:52.646402Z"
    }
   },
   "outputs": [
    {
     "name": "stdout",
     "output_type": "stream",
     "text": [
      "_________________________________________________________________\n",
      "Layer (type)                 Output Shape              Param #   \n",
      "=================================================================\n",
      "input_1 (InputLayer)         (None, 16000)             0         \n",
      "_________________________________________________________________\n",
      "mfcc_1 (MFCC)                (None, 100, 15)           7710      \n",
      "_________________________________________________________________\n",
      "batch_normalization_1 (Batch (None, 100, 15)           60        \n",
      "_________________________________________________________________\n",
      "gaussian_noise_1 (GaussianNo (None, 100, 15)           0         \n",
      "_________________________________________________________________\n",
      "delta_1 (Delta)              (None, 100, 15, 3)        5         \n",
      "_________________________________________________________________\n",
      "reshape_1 (Reshape)          (None, 100, 45)           0         \n",
      "_________________________________________________________________\n",
      "bidirectional_1 (Bidirection (None, 100, 50)           28800     \n",
      "_________________________________________________________________\n",
      "batch_normalization_2 (Batch (None, 100, 50)           200       \n",
      "_________________________________________________________________\n",
      "gaussian_noise_2 (GaussianNo (None, 100, 50)           0         \n",
      "_________________________________________________________________\n",
      "bidirectional_2 (Bidirection (None, 100, 34)           17340     \n",
      "=================================================================\n",
      "Total params: 54,115\n",
      "Trainable params: 46,270\n",
      "Non-trainable params: 7,845\n",
      "_________________________________________________________________\n"
     ]
    }
   ],
   "source": [
    "with tf.device('/gpu:0'):\n",
    "    lr = tf.placeholder(tf.float32, [], name='lr')\n",
    "    wav_input = K.placeholder((None, SR), dtype='float32', name=\"wav_input\")\n",
    "    labels = K.placeholder(sparse=True, dtype='int32', name=\"labels\")\n",
    "    sequence_length = K.placeholder(\n",
    "        [None], dtype='int32', name=\"sequence_length\")\n",
    "\n",
    "    wav_mean = K.mean(wav_input, axis=1, keepdims=True)\n",
    "    wav_std = K.std(wav_input, axis=1, keepdims=True)\n",
    "    wav_input = (wav_input - wav_input) / wav_std\n",
    "\n",
    "    base_model = keras.Sequential([\n",
    "        keras.layers.InputLayer(input_tensor=wav_input),\n",
    "        MFCC(\n",
    "            frame_length=F_LEN,\n",
    "            frame_step=F_STEP,\n",
    "            fft_length=N_FFT,\n",
    "            num_mel_bins=N_MEL,\n",
    "            sr=SR,\n",
    "            n_mfcc=N_MFCC,\n",
    "            upper_edge_hertz=MAX_F,\n",
    "            lower_edge_hertz=MIN_F),\n",
    "        keras.layers.BatchNormalization(),\n",
    "        keras.layers.GaussianNoise(NOISE),\n",
    "        Delta(),\n",
    "        keras.layers.Reshape((N_SEQ, N_MFCC * 3)),\n",
    "\n",
    "        #         keras.layers.Bidirectional(\n",
    "        #             keras.layers.GRU(50, return_sequences=True), merge_mode=\"concat\"),\n",
    "        #         keras.layers.BatchNormalization(),\n",
    "        #         keras.layers.Dropout(DROP),\n",
    "\n",
    "        keras.layers.Bidirectional(\n",
    "            keras.layers.GRU(50, activation=\"elu\", return_sequences=True), merge_mode=\"ave\"),\n",
    "        keras.layers.BatchNormalization(),\n",
    "        keras.layers.GaussianNoise(NOISE),\n",
    "        \n",
    "        keras.layers.Bidirectional(\n",
    "            keras.layers.GRU(N_CAT, activation=\"linear\", return_sequences=True),\n",
    "            merge_mode=\"ave\"),\n",
    "    ])\n",
    "    base_model.summary()\n",
    "\n",
    "    logits = base_model.output\n",
    "    logits = tf.transpose(logits, (1, 0, 2))\n",
    "\n",
    "    loss = tf.nn.ctc_loss(labels, logits, sequence_length)\n",
    "    cost = tf.reduce_mean(loss)\n",
    "    optimizer = tf.contrib.opt.NadamOptimizer(learning_rate=lr).minimize(cost)\n",
    "\n",
    "    decoded, _ = tf.nn.ctc_beam_search_decoder(\n",
    "        logits,\n",
    "        sequence_length,\n",
    "        beam_width=100,\n",
    "        top_paths=10,\n",
    "    )\n",
    "    greedy_decoded, _ = tf.nn.ctc_beam_search_decoder(\n",
    "        logits,\n",
    "        sequence_length,\n",
    "        beam_width=5,\n",
    "        top_paths=1,\n",
    "    )\n",
    "\n",
    "    ler = tf.reduce_mean(\n",
    "        tf.edit_distance(tf.cast(decoded[0], 'int32'), labels))\n",
    "    \n",
    "    greedy_ler = tf.reduce_mean(\n",
    "        tf.edit_distance(tf.cast(greedy_decoded[0], 'int32'), labels))"
   ]
  },
  {
   "cell_type": "code",
   "execution_count": 7,
   "metadata": {
    "ExecuteTime": {
     "end_time": "2018-01-18T22:13:56.975940Z",
     "start_time": "2018-01-18T22:13:56.510259Z"
    }
   },
   "outputs": [],
   "source": [
    "init_op = tf.global_variables_initializer()\n",
    "sess.run(init_op)"
   ]
  },
  {
   "cell_type": "code",
   "execution_count": 8,
   "metadata": {
    "ExecuteTime": {
     "end_time": "2018-01-18T22:13:56.983571Z",
     "start_time": "2018-01-18T22:13:56.977990Z"
    }
   },
   "outputs": [],
   "source": [
    "N_BATCH = 512\n",
    "train_gen = ex_generator(\n",
    "    batch_size=N_BATCH,\n",
    "    state=[\"train\"],\n",
    "    p_transform=0, \n",
    "    vol_range=.1, \n",
    "    shift=0,\n",
    ")\n",
    "val_gen = ex_generator(\n",
    "    batch_size=N_BATCH,\n",
    "    state=[\"val\", \"test\"],\n",
    "    shuffle=True,\n",
    ")"
   ]
  },
  {
   "cell_type": "code",
   "execution_count": 9,
   "metadata": {
    "ExecuteTime": {
     "end_time": "2018-01-18T23:43:10.069666Z",
     "start_time": "2018-01-18T22:13:56.985746Z"
    },
    "scrolled": false
   },
   "outputs": [
    {
     "name": "stderr",
     "output_type": "stream",
     "text": [
      "\r",
      "  0%|          | 0/103 [00:00<?, ?it/s]"
     ]
    },
    {
     "name": "stdout",
     "output_type": "stream",
     "text": [
      "beginning epoch 1/200. lr=0.002\n"
     ]
    },
    {
     "name": "stderr",
     "output_type": "stream",
     "text": [
      "train 103/103 | cost: 52.7940 | ler: 310.963: 100%|██████████| 103/103 [01:27<00:00,  1.18it/s]\n",
      "validation 27/27 | cost: 18.2517 | ler: 97.270: 100%|██████████| 27/27 [00:18<00:00,  1.43it/s]\n",
      "  0%|          | 0/103 [00:00<?, ?it/s]"
     ]
    },
    {
     "name": "stdout",
     "output_type": "stream",
     "text": [
      "beginning epoch 2/200. lr=0.002\n"
     ]
    },
    {
     "name": "stderr",
     "output_type": "stream",
     "text": [
      "train 103/103 | cost: 11.6196 | ler: 92.760: 100%|██████████| 103/103 [01:22<00:00,  1.24it/s]\n",
      "validation 27/27 | cost: 21.9358 | ler: 103.405: 100%|██████████| 27/27 [00:18<00:00,  1.44it/s]\n",
      "  0%|          | 0/103 [00:00<?, ?it/s]"
     ]
    },
    {
     "name": "stdout",
     "output_type": "stream",
     "text": [
      "beginning epoch 3/200. lr=0.002\n"
     ]
    },
    {
     "name": "stderr",
     "output_type": "stream",
     "text": [
      "train 103/103 | cost: 10.4069 | ler: 87.278: 100%|██████████| 103/103 [01:23<00:00,  1.24it/s]\n",
      "validation 27/27 | cost: 17.1606 | ler: 93.512: 100%|██████████| 27/27 [00:19<00:00,  1.41it/s]\n",
      "  0%|          | 0/103 [00:00<?, ?it/s]"
     ]
    },
    {
     "name": "stdout",
     "output_type": "stream",
     "text": [
      "beginning epoch 4/200. lr=0.002\n"
     ]
    },
    {
     "name": "stderr",
     "output_type": "stream",
     "text": [
      "train 103/103 | cost: 9.4026 | ler: 81.953: 100%|██████████| 103/103 [01:24<00:00,  1.22it/s]\n",
      "validation 27/27 | cost: 12.4248 | ler: 81.187: 100%|██████████| 27/27 [00:18<00:00,  1.43it/s]\n",
      "  0%|          | 0/103 [00:00<?, ?it/s]"
     ]
    },
    {
     "name": "stdout",
     "output_type": "stream",
     "text": [
      "beginning epoch 5/200. lr=0.002\n"
     ]
    },
    {
     "name": "stderr",
     "output_type": "stream",
     "text": [
      "train 103/103 | cost: 8.8051 | ler: 76.295: 100%|██████████| 103/103 [01:15<00:00,  1.37it/s]\n",
      "validation 27/27 | cost: 9.7947 | ler: 75.978: 100%|██████████| 27/27 [00:10<00:00,  2.54it/s]\n",
      "  0%|          | 0/103 [00:00<?, ?it/s]"
     ]
    },
    {
     "name": "stdout",
     "output_type": "stream",
     "text": [
      "beginning epoch 6/200. lr=0.002\n"
     ]
    },
    {
     "name": "stderr",
     "output_type": "stream",
     "text": [
      "train 103/103 | cost: 7.9946 | ler: 69.647: 100%|██████████| 103/103 [01:12<00:00,  1.43it/s]\n",
      "validation 27/27 | cost: 9.3377 | ler: 72.835: 100%|██████████| 27/27 [00:10<00:00,  2.51it/s]\n",
      "  0%|          | 0/103 [00:00<?, ?it/s]"
     ]
    },
    {
     "name": "stdout",
     "output_type": "stream",
     "text": [
      "beginning epoch 7/200. lr=0.002\n"
     ]
    },
    {
     "name": "stderr",
     "output_type": "stream",
     "text": [
      "train 103/103 | cost: 7.6328 | ler: 66.070: 100%|██████████| 103/103 [01:13<00:00,  1.40it/s]\n",
      "validation 27/27 | cost: 8.8451 | ler: 69.324: 100%|██████████| 27/27 [00:16<00:00,  1.67it/s]\n",
      "  0%|          | 0/103 [00:00<?, ?it/s]"
     ]
    },
    {
     "name": "stdout",
     "output_type": "stream",
     "text": [
      "beginning epoch 8/200. lr=0.002\n"
     ]
    },
    {
     "name": "stderr",
     "output_type": "stream",
     "text": [
      "train 103/103 | cost: 6.9549 | ler: 62.869: 100%|██████████| 103/103 [01:13<00:00,  1.40it/s]\n",
      "validation 27/27 | cost: 7.9630 | ler: 66.607: 100%|██████████| 27/27 [00:13<00:00,  1.99it/s]\n",
      "  0%|          | 0/103 [00:00<?, ?it/s]"
     ]
    },
    {
     "name": "stdout",
     "output_type": "stream",
     "text": [
      "beginning epoch 9/200. lr=0.002\n"
     ]
    },
    {
     "name": "stderr",
     "output_type": "stream",
     "text": [
      "train 103/103 | cost: 5.9375 | ler: 55.686: 100%|██████████| 103/103 [01:12<00:00,  1.41it/s]\n",
      "validation 27/27 | cost: 7.6526 | ler: 60.832: 100%|██████████| 27/27 [00:13<00:00,  1.98it/s]\n",
      "  0%|          | 0/103 [00:00<?, ?it/s]"
     ]
    },
    {
     "name": "stdout",
     "output_type": "stream",
     "text": [
      "beginning epoch 10/200. lr=0.002\n"
     ]
    },
    {
     "name": "stderr",
     "output_type": "stream",
     "text": [
      "train 103/103 | cost: 6.6066 | ler: 59.035: 100%|██████████| 103/103 [01:12<00:00,  1.42it/s]\n",
      "validation 27/27 | cost: 7.9372 | ler: 63.260: 100%|██████████| 27/27 [00:13<00:00,  1.98it/s]\n",
      "  0%|          | 0/103 [00:00<?, ?it/s]"
     ]
    },
    {
     "name": "stdout",
     "output_type": "stream",
     "text": [
      "beginning epoch 11/200. lr=0.002\n"
     ]
    },
    {
     "name": "stderr",
     "output_type": "stream",
     "text": [
      "train 103/103 | cost: 6.1135 | ler: 54.330: 100%|██████████| 103/103 [01:13<00:00,  1.40it/s]\n",
      "validation 27/27 | cost: 7.2582 | ler: 57.630: 100%|██████████| 27/27 [00:13<00:00,  1.99it/s]\n",
      "  0%|          | 0/103 [00:00<?, ?it/s]"
     ]
    },
    {
     "name": "stdout",
     "output_type": "stream",
     "text": [
      "beginning epoch 12/200. lr=0.002\n"
     ]
    },
    {
     "name": "stderr",
     "output_type": "stream",
     "text": [
      "train 103/103 | cost: 5.1550 | ler: 47.262: 100%|██████████| 103/103 [01:12<00:00,  1.42it/s]\n",
      "validation 27/27 | cost: 7.4285 | ler: 57.092: 100%|██████████| 27/27 [00:13<00:00,  1.95it/s]\n",
      "  0%|          | 0/103 [00:00<?, ?it/s]"
     ]
    },
    {
     "name": "stdout",
     "output_type": "stream",
     "text": [
      "beginning epoch 13/200. lr=0.002\n"
     ]
    },
    {
     "name": "stderr",
     "output_type": "stream",
     "text": [
      "train 103/103 | cost: 5.0303 | ler: 44.935: 100%|██████████| 103/103 [01:12<00:00,  1.42it/s]\n",
      "validation 27/27 | cost: 6.6715 | ler: 52.104: 100%|██████████| 27/27 [00:13<00:00,  1.98it/s]\n",
      "  0%|          | 0/103 [00:00<?, ?it/s]"
     ]
    },
    {
     "name": "stdout",
     "output_type": "stream",
     "text": [
      "beginning epoch 14/200. lr=0.002\n"
     ]
    },
    {
     "name": "stderr",
     "output_type": "stream",
     "text": [
      "train 103/103 | cost: 4.6910 | ler: 42.615: 100%|██████████| 103/103 [01:12<00:00,  1.42it/s]\n",
      "validation 27/27 | cost: 6.4526 | ler: 49.055: 100%|██████████| 27/27 [00:13<00:00,  1.94it/s]\n",
      "  0%|          | 0/103 [00:00<?, ?it/s]"
     ]
    },
    {
     "name": "stdout",
     "output_type": "stream",
     "text": [
      "beginning epoch 15/200. lr=0.002\n"
     ]
    },
    {
     "name": "stderr",
     "output_type": "stream",
     "text": [
      "train 103/103 | cost: 4.2495 | ler: 37.107: 100%|██████████| 103/103 [01:12<00:00,  1.42it/s]\n",
      "validation 27/27 | cost: 5.9815 | ler: 44.261: 100%|██████████| 27/27 [00:13<00:00,  1.95it/s]\n",
      "  0%|          | 0/103 [00:00<?, ?it/s]"
     ]
    },
    {
     "name": "stdout",
     "output_type": "stream",
     "text": [
      "beginning epoch 16/200. lr=0.002\n"
     ]
    },
    {
     "name": "stderr",
     "output_type": "stream",
     "text": [
      "train 103/103 | cost: 5.8495 | ler: 51.171: 100%|██████████| 103/103 [01:12<00:00,  1.41it/s]\n",
      "validation 27/27 | cost: 6.3825 | ler: 53.719: 100%|██████████| 27/27 [00:13<00:00,  1.99it/s]\n",
      "  0%|          | 0/103 [00:00<?, ?it/s]"
     ]
    },
    {
     "name": "stdout",
     "output_type": "stream",
     "text": [
      "beginning epoch 17/200. lr=0.002\n"
     ]
    },
    {
     "name": "stderr",
     "output_type": "stream",
     "text": [
      "train 103/103 | cost: 4.3175 | ler: 38.707: 100%|██████████| 103/103 [01:12<00:00,  1.43it/s]\n",
      "validation 27/27 | cost: 5.8746 | ler: 45.274: 100%|██████████| 27/27 [00:13<00:00,  1.99it/s]\n",
      "  0%|          | 0/103 [00:00<?, ?it/s]"
     ]
    },
    {
     "name": "stdout",
     "output_type": "stream",
     "text": [
      "beginning epoch 18/200. lr=0.002\n"
     ]
    },
    {
     "name": "stderr",
     "output_type": "stream",
     "text": [
      "train 103/103 | cost: 3.8972 | ler: 36.477: 100%|██████████| 103/103 [01:11<00:00,  1.43it/s]\n",
      "validation 27/27 | cost: 7.8308 | ler: 51.830: 100%|██████████| 27/27 [00:13<00:00,  1.99it/s]\n",
      "  0%|          | 0/103 [00:00<?, ?it/s]"
     ]
    },
    {
     "name": "stdout",
     "output_type": "stream",
     "text": [
      "beginning epoch 19/200. lr=0.002\n"
     ]
    },
    {
     "name": "stderr",
     "output_type": "stream",
     "text": [
      "train 103/103 | cost: 4.7581 | ler: 41.337: 100%|██████████| 103/103 [01:12<00:00,  1.42it/s]\n",
      "validation 27/27 | cost: 5.5624 | ler: 45.610: 100%|██████████| 27/27 [00:13<00:00,  1.96it/s]\n",
      "  0%|          | 0/103 [00:00<?, ?it/s]"
     ]
    },
    {
     "name": "stdout",
     "output_type": "stream",
     "text": [
      "reducing learning rate 0.0020->0.0005\n",
      "beginning epoch 20/200. lr=0.0005\n"
     ]
    },
    {
     "name": "stderr",
     "output_type": "stream",
     "text": [
      "train 103/103 | cost: 4.7224 | ler: 41.660: 100%|██████████| 103/103 [01:12<00:00,  1.42it/s]\n",
      "validation 27/27 | cost: 5.0354 | ler: 42.219: 100%|██████████| 27/27 [00:13<00:00,  1.99it/s]\n",
      "  0%|          | 0/103 [00:00<?, ?it/s]"
     ]
    },
    {
     "name": "stdout",
     "output_type": "stream",
     "text": [
      "beginning epoch 21/200. lr=0.0005\n"
     ]
    },
    {
     "name": "stderr",
     "output_type": "stream",
     "text": [
      "train 103/103 | cost: 4.2595 | ler: 37.514: 100%|██████████| 103/103 [01:12<00:00,  1.42it/s]\n",
      "validation 27/27 | cost: 4.9714 | ler: 39.289: 100%|██████████| 27/27 [00:13<00:00,  1.99it/s]\n",
      "  0%|          | 0/103 [00:00<?, ?it/s]"
     ]
    },
    {
     "name": "stdout",
     "output_type": "stream",
     "text": [
      "beginning epoch 22/200. lr=0.0005\n"
     ]
    },
    {
     "name": "stderr",
     "output_type": "stream",
     "text": [
      "train 103/103 | cost: 3.8993 | ler: 35.024: 100%|██████████| 103/103 [01:13<00:00,  1.40it/s]\n",
      "validation 27/27 | cost: 4.5207 | ler: 36.565: 100%|██████████| 27/27 [00:13<00:00,  1.99it/s]\n",
      "  0%|          | 0/103 [00:00<?, ?it/s]"
     ]
    },
    {
     "name": "stdout",
     "output_type": "stream",
     "text": [
      "beginning epoch 23/200. lr=0.0005\n"
     ]
    },
    {
     "name": "stderr",
     "output_type": "stream",
     "text": [
      "train 103/103 | cost: 3.5463 | ler: 33.240: 100%|██████████| 103/103 [01:12<00:00,  1.43it/s]\n",
      "validation 27/27 | cost: 4.4739 | ler: 37.215: 100%|██████████| 27/27 [00:13<00:00,  1.96it/s]\n",
      "  0%|          | 0/103 [00:00<?, ?it/s]"
     ]
    },
    {
     "name": "stdout",
     "output_type": "stream",
     "text": [
      "beginning epoch 24/200. lr=0.0005\n"
     ]
    },
    {
     "name": "stderr",
     "output_type": "stream",
     "text": [
      "train 103/103 | cost: 3.5224 | ler: 31.459: 100%|██████████| 103/103 [01:12<00:00,  1.41it/s]\n",
      "validation 27/27 | cost: 4.4028 | ler: 37.109: 100%|██████████| 27/27 [00:13<00:00,  1.97it/s]\n",
      "  0%|          | 0/103 [00:00<?, ?it/s]"
     ]
    },
    {
     "name": "stdout",
     "output_type": "stream",
     "text": [
      "beginning epoch 25/200. lr=0.0005\n"
     ]
    },
    {
     "name": "stderr",
     "output_type": "stream",
     "text": [
      "train 103/103 | cost: 3.4324 | ler: 31.496: 100%|██████████| 103/103 [01:12<00:00,  1.41it/s]\n",
      "validation 27/27 | cost: 4.0531 | ler: 33.088: 100%|██████████| 27/27 [00:13<00:00,  1.99it/s]\n",
      "  0%|          | 0/103 [00:00<?, ?it/s]"
     ]
    },
    {
     "name": "stdout",
     "output_type": "stream",
     "text": [
      "beginning epoch 26/200. lr=0.0005\n"
     ]
    },
    {
     "name": "stderr",
     "output_type": "stream",
     "text": [
      "train 103/103 | cost: 3.3579 | ler: 30.115: 100%|██████████| 103/103 [01:13<00:00,  1.41it/s]\n",
      "validation 27/27 | cost: 4.8334 | ler: 34.978: 100%|██████████| 27/27 [00:13<00:00,  1.99it/s]\n",
      "  0%|          | 0/103 [00:00<?, ?it/s]"
     ]
    },
    {
     "name": "stdout",
     "output_type": "stream",
     "text": [
      "beginning epoch 27/200. lr=0.0005\n"
     ]
    },
    {
     "name": "stderr",
     "output_type": "stream",
     "text": [
      "train 103/103 | cost: 3.3990 | ler: 31.735: 100%|██████████| 103/103 [01:12<00:00,  1.42it/s]\n",
      "validation 27/27 | cost: 4.5562 | ler: 33.779: 100%|██████████| 27/27 [00:13<00:00,  1.97it/s]\n",
      "  0%|          | 0/103 [00:00<?, ?it/s]"
     ]
    },
    {
     "name": "stdout",
     "output_type": "stream",
     "text": [
      "beginning epoch 28/200. lr=0.0005\n"
     ]
    },
    {
     "name": "stderr",
     "output_type": "stream",
     "text": [
      "train 103/103 | cost: 3.3668 | ler: 29.667: 100%|██████████| 103/103 [01:12<00:00,  1.41it/s]\n",
      "validation 27/27 | cost: 3.5558 | ler: 30.477: 100%|██████████| 27/27 [00:13<00:00,  1.99it/s]\n",
      "  0%|          | 0/103 [00:00<?, ?it/s]"
     ]
    },
    {
     "name": "stdout",
     "output_type": "stream",
     "text": [
      "beginning epoch 29/200. lr=0.0005\n"
     ]
    },
    {
     "name": "stderr",
     "output_type": "stream",
     "text": [
      "train 103/103 | cost: 3.0399 | ler: 27.505: 100%|██████████| 103/103 [01:12<00:00,  1.42it/s]\n",
      "validation 27/27 | cost: 4.2381 | ler: 34.970: 100%|██████████| 27/27 [00:13<00:00,  1.99it/s]\n",
      "  0%|          | 0/103 [00:00<?, ?it/s]"
     ]
    },
    {
     "name": "stdout",
     "output_type": "stream",
     "text": [
      "beginning epoch 30/200. lr=0.0005\n"
     ]
    },
    {
     "name": "stderr",
     "output_type": "stream",
     "text": [
      "train 103/103 | cost: 2.8277 | ler: 25.538: 100%|██████████| 103/103 [01:12<00:00,  1.43it/s]\n",
      "validation 27/27 | cost: 4.1919 | ler: 35.179: 100%|██████████| 27/27 [00:13<00:00,  1.97it/s]\n",
      "  0%|          | 0/103 [00:00<?, ?it/s]"
     ]
    },
    {
     "name": "stdout",
     "output_type": "stream",
     "text": [
      "beginning epoch 31/200. lr=0.0005\n"
     ]
    },
    {
     "name": "stderr",
     "output_type": "stream",
     "text": [
      "train 103/103 | cost: 3.2082 | ler: 28.878: 100%|██████████| 103/103 [01:12<00:00,  1.42it/s]\n",
      "validation 27/27 | cost: 4.1262 | ler: 31.994: 100%|██████████| 27/27 [00:13<00:00,  1.97it/s]\n",
      "  0%|          | 0/103 [00:00<?, ?it/s]"
     ]
    },
    {
     "name": "stdout",
     "output_type": "stream",
     "text": [
      "beginning epoch 32/200. lr=0.0005\n"
     ]
    },
    {
     "name": "stderr",
     "output_type": "stream",
     "text": [
      "train 103/103 | cost: 2.9361 | ler: 25.950: 100%|██████████| 103/103 [01:13<00:00,  1.41it/s]\n",
      "validation 27/27 | cost: 3.4682 | ler: 28.772: 100%|██████████| 27/27 [00:13<00:00,  1.97it/s]\n",
      "  0%|          | 0/103 [00:00<?, ?it/s]"
     ]
    },
    {
     "name": "stdout",
     "output_type": "stream",
     "text": [
      "beginning epoch 33/200. lr=0.0005\n"
     ]
    },
    {
     "name": "stderr",
     "output_type": "stream",
     "text": [
      "train 103/103 | cost: 3.0164 | ler: 27.200: 100%|██████████| 103/103 [01:13<00:00,  1.40it/s]\n",
      "validation 27/27 | cost: 3.2903 | ler: 29.417: 100%|██████████| 27/27 [00:13<00:00,  1.97it/s]\n",
      "  0%|          | 0/103 [00:00<?, ?it/s]"
     ]
    },
    {
     "name": "stdout",
     "output_type": "stream",
     "text": [
      "beginning epoch 34/200. lr=0.0005\n"
     ]
    },
    {
     "name": "stderr",
     "output_type": "stream",
     "text": [
      "train 103/103 | cost: 2.8321 | ler: 25.278: 100%|██████████| 103/103 [01:12<00:00,  1.41it/s]\n",
      "validation 27/27 | cost: 3.7019 | ler: 30.319: 100%|██████████| 27/27 [00:13<00:00,  1.95it/s]\n",
      "  0%|          | 0/103 [00:00<?, ?it/s]"
     ]
    },
    {
     "name": "stdout",
     "output_type": "stream",
     "text": [
      "beginning epoch 35/200. lr=0.0005\n"
     ]
    },
    {
     "name": "stderr",
     "output_type": "stream",
     "text": [
      "train 103/103 | cost: 2.8414 | ler: 26.710: 100%|██████████| 103/103 [01:13<00:00,  1.40it/s]\n",
      "validation 27/27 | cost: 3.6800 | ler: 32.832: 100%|██████████| 27/27 [00:13<00:00,  1.96it/s]\n",
      "  0%|          | 0/103 [00:00<?, ?it/s]"
     ]
    },
    {
     "name": "stdout",
     "output_type": "stream",
     "text": [
      "beginning epoch 36/200. lr=0.0005\n"
     ]
    },
    {
     "name": "stderr",
     "output_type": "stream",
     "text": [
      "train 103/103 | cost: 2.5064 | ler: 23.351: 100%|██████████| 103/103 [01:13<00:00,  1.41it/s]\n",
      "validation 27/27 | cost: 3.4982 | ler: 27.065: 100%|██████████| 27/27 [00:13<00:00,  1.96it/s]\n",
      "  0%|          | 0/103 [00:00<?, ?it/s]"
     ]
    },
    {
     "name": "stdout",
     "output_type": "stream",
     "text": [
      "beginning epoch 37/200. lr=0.0005\n"
     ]
    },
    {
     "name": "stderr",
     "output_type": "stream",
     "text": [
      "train 103/103 | cost: 2.4875 | ler: 22.784: 100%|██████████| 103/103 [01:12<00:00,  1.41it/s]\n",
      "validation 27/27 | cost: 3.7765 | ler: 30.018: 100%|██████████| 27/27 [00:13<00:00,  1.96it/s]\n",
      "  0%|          | 0/103 [00:00<?, ?it/s]"
     ]
    },
    {
     "name": "stdout",
     "output_type": "stream",
     "text": [
      "beginning epoch 38/200. lr=0.0005\n"
     ]
    },
    {
     "name": "stderr",
     "output_type": "stream",
     "text": [
      "train 103/103 | cost: 2.3661 | ler: 21.569: 100%|██████████| 103/103 [01:11<00:00,  1.43it/s]\n",
      "validation 27/27 | cost: 2.9691 | ler: 25.431: 100%|██████████| 27/27 [00:13<00:00,  1.95it/s]\n",
      "  0%|          | 0/103 [00:00<?, ?it/s]"
     ]
    },
    {
     "name": "stdout",
     "output_type": "stream",
     "text": [
      "beginning epoch 39/200. lr=0.0005\n"
     ]
    },
    {
     "name": "stderr",
     "output_type": "stream",
     "text": [
      "train 103/103 | cost: 2.3555 | ler: 21.784: 100%|██████████| 103/103 [01:12<00:00,  1.42it/s]\n",
      "validation 27/27 | cost: 3.4880 | ler: 28.550: 100%|██████████| 27/27 [00:13<00:00,  1.98it/s]\n",
      "  0%|          | 0/103 [00:00<?, ?it/s]"
     ]
    },
    {
     "name": "stdout",
     "output_type": "stream",
     "text": [
      "beginning epoch 40/200. lr=0.0005\n"
     ]
    },
    {
     "name": "stderr",
     "output_type": "stream",
     "text": [
      "train 103/103 | cost: 2.2479 | ler: 21.470: 100%|██████████| 103/103 [01:12<00:00,  1.42it/s]\n",
      "validation 27/27 | cost: 3.3627 | ler: 25.824: 100%|██████████| 27/27 [00:13<00:00,  2.00it/s]\n",
      "  0%|          | 0/103 [00:00<?, ?it/s]"
     ]
    },
    {
     "name": "stdout",
     "output_type": "stream",
     "text": [
      "beginning epoch 41/200. lr=0.0005\n"
     ]
    },
    {
     "name": "stderr",
     "output_type": "stream",
     "text": [
      "train 103/103 | cost: 2.5077 | ler: 22.897: 100%|██████████| 103/103 [01:13<00:00,  1.41it/s]\n",
      "validation 27/27 | cost: 3.4741 | ler: 27.594: 100%|██████████| 27/27 [00:13<00:00,  2.00it/s]\n",
      "  0%|          | 0/103 [00:00<?, ?it/s]"
     ]
    },
    {
     "name": "stdout",
     "output_type": "stream",
     "text": [
      "beginning epoch 42/200. lr=0.0005\n"
     ]
    },
    {
     "name": "stderr",
     "output_type": "stream",
     "text": [
      "train 103/103 | cost: 2.3678 | ler: 21.848: 100%|██████████| 103/103 [01:12<00:00,  1.42it/s]\n",
      "validation 27/27 | cost: 3.5305 | ler: 29.211: 100%|██████████| 27/27 [00:16<00:00,  1.67it/s]\n",
      "  0%|          | 0/103 [00:00<?, ?it/s]"
     ]
    },
    {
     "name": "stdout",
     "output_type": "stream",
     "text": [
      "reducing learning rate 0.0005->0.0001\n",
      "beginning epoch 43/200. lr=0.000125\n"
     ]
    },
    {
     "name": "stderr",
     "output_type": "stream",
     "text": [
      "train 103/103 | cost: 2.6196 | ler: 24.022: 100%|██████████| 103/103 [01:13<00:00,  1.40it/s]\n",
      "validation 27/27 | cost: 3.3252 | ler: 28.265: 100%|██████████| 27/27 [00:13<00:00,  1.94it/s]\n",
      "  0%|          | 0/103 [00:00<?, ?it/s]"
     ]
    },
    {
     "name": "stdout",
     "output_type": "stream",
     "text": [
      "reducing learning rate 0.0000->0.0000\n",
      "beginning epoch 45/200. lr=7.8125e-06\n"
     ]
    },
    {
     "name": "stderr",
     "output_type": "stream",
     "text": [
      "train 103/103 | cost: 3.0109 | ler: 27.614: 100%|██████████| 103/103 [01:13<00:00,  1.41it/s]\n",
      "validation 27/27 | cost: 2.8602 | ler: 24.603: 100%|██████████| 27/27 [00:13<00:00,  1.96it/s]\n",
      "  0%|          | 0/103 [00:00<?, ?it/s]"
     ]
    },
    {
     "name": "stdout",
     "output_type": "stream",
     "text": [
      "beginning epoch 46/200. lr=7.8125e-06\n"
     ]
    },
    {
     "name": "stderr",
     "output_type": "stream",
     "text": [
      "train 103/103 | cost: 2.8625 | ler: 25.161: 100%|██████████| 103/103 [01:12<00:00,  1.41it/s]\n",
      "validation 27/27 | cost: 2.9085 | ler: 24.647: 100%|██████████| 27/27 [00:13<00:00,  1.95it/s]\n",
      "  0%|          | 0/103 [00:00<?, ?it/s]"
     ]
    },
    {
     "name": "stdout",
     "output_type": "stream",
     "text": [
      "beginning epoch 47/200. lr=7.8125e-06\n"
     ]
    },
    {
     "name": "stderr",
     "output_type": "stream",
     "text": [
      "train 103/103 | cost: 2.9773 | ler: 28.390: 100%|██████████| 103/103 [01:12<00:00,  1.42it/s]\n",
      "validation 27/27 | cost: 3.4550 | ler: 28.420: 100%|██████████| 27/27 [00:13<00:00,  1.95it/s]\n",
      "  0%|          | 0/103 [00:00<?, ?it/s]"
     ]
    },
    {
     "name": "stdout",
     "output_type": "stream",
     "text": [
      "beginning epoch 48/200. lr=7.8125e-06\n"
     ]
    },
    {
     "name": "stderr",
     "output_type": "stream",
     "text": [
      "train 103/103 | cost: 3.3279 | ler: 29.153: 100%|██████████| 103/103 [01:12<00:00,  1.42it/s]\n",
      "validation 27/27 | cost: 3.2656 | ler: 27.747: 100%|██████████| 27/27 [00:13<00:00,  1.95it/s]\n",
      "  0%|          | 0/103 [00:00<?, ?it/s]"
     ]
    },
    {
     "name": "stdout",
     "output_type": "stream",
     "text": [
      "beginning epoch 49/200. lr=7.8125e-06\n"
     ]
    },
    {
     "name": "stderr",
     "output_type": "stream",
     "text": [
      "train 103/103 | cost: 3.2388 | ler: 28.472: 100%|██████████| 103/103 [01:12<00:00,  1.42it/s]\n",
      "validation 27/27 | cost: 2.9964 | ler: 23.432: 100%|██████████| 27/27 [00:13<00:00,  1.94it/s]\n",
      "  0%|          | 0/103 [00:00<?, ?it/s]"
     ]
    },
    {
     "name": "stdout",
     "output_type": "stream",
     "text": [
      "beginning epoch 50/200. lr=7.8125e-06\n"
     ]
    },
    {
     "name": "stderr",
     "output_type": "stream",
     "text": [
      "train 103/103 | cost: 3.1835 | ler: 28.221: 100%|██████████| 103/103 [01:12<00:00,  1.41it/s]\n",
      "validation 27/27 | cost: 3.0184 | ler: 26.934: 100%|██████████| 27/27 [00:14<00:00,  1.91it/s]\n",
      "  0%|          | 0/103 [00:00<?, ?it/s]"
     ]
    },
    {
     "name": "stdout",
     "output_type": "stream",
     "text": [
      "beginning epoch 51/200. lr=7.8125e-06\n"
     ]
    },
    {
     "name": "stderr",
     "output_type": "stream",
     "text": [
      "train 103/103 | cost: 3.3481 | ler: 29.003: 100%|██████████| 103/103 [01:13<00:00,  1.40it/s]\n",
      "validation 27/27 | cost: 3.0577 | ler: 24.602: 100%|██████████| 27/27 [00:16<00:00,  1.67it/s]\n",
      "  0%|          | 0/103 [00:00<?, ?it/s]"
     ]
    },
    {
     "name": "stdout",
     "output_type": "stream",
     "text": [
      "beginning epoch 52/200. lr=7.8125e-06\n"
     ]
    },
    {
     "name": "stderr",
     "output_type": "stream",
     "text": [
      "train 103/103 | cost: 3.0195 | ler: 27.907: 100%|██████████| 103/103 [01:13<00:00,  1.41it/s]\n",
      "validation 27/27 | cost: 2.7949 | ler: 24.742: 100%|██████████| 27/27 [00:13<00:00,  1.95it/s]\n",
      "  0%|          | 0/103 [00:00<?, ?it/s]"
     ]
    },
    {
     "name": "stdout",
     "output_type": "stream",
     "text": [
      "beginning epoch 53/200. lr=7.8125e-06\n"
     ]
    },
    {
     "name": "stderr",
     "output_type": "stream",
     "text": [
      "train 103/103 | cost: 2.9235 | ler: 26.813: 100%|██████████| 103/103 [01:13<00:00,  1.40it/s]\n",
      "validation 27/27 | cost: 2.9191 | ler: 23.664: 100%|██████████| 27/27 [00:13<00:00,  1.97it/s]\n",
      "  0%|          | 0/103 [00:00<?, ?it/s]"
     ]
    },
    {
     "name": "stdout",
     "output_type": "stream",
     "text": [
      "reducing learning rate 0.0000->0.0000\n",
      "beginning epoch 54/200. lr=1.953125e-06\n"
     ]
    },
    {
     "name": "stderr",
     "output_type": "stream",
     "text": [
      "train 103/103 | cost: 3.3484 | ler: 29.385: 100%|██████████| 103/103 [01:13<00:00,  1.40it/s]\n",
      "validation 27/27 | cost: 2.7047 | ler: 21.773: 100%|██████████| 27/27 [00:13<00:00,  1.98it/s]\n",
      "  0%|          | 0/103 [00:00<?, ?it/s]"
     ]
    },
    {
     "name": "stdout",
     "output_type": "stream",
     "text": [
      "beginning epoch 55/200. lr=1.953125e-06\n"
     ]
    },
    {
     "name": "stderr",
     "output_type": "stream",
     "text": [
      "train 103/103 | cost: 3.1186 | ler: 27.202: 100%|██████████| 103/103 [01:13<00:00,  1.41it/s]\n",
      "validation 27/27 | cost: 3.1213 | ler: 25.327: 100%|██████████| 27/27 [00:14<00:00,  1.93it/s]\n",
      "  0%|          | 0/103 [00:00<?, ?it/s]"
     ]
    },
    {
     "name": "stdout",
     "output_type": "stream",
     "text": [
      "beginning epoch 56/200. lr=1.953125e-06\n"
     ]
    },
    {
     "name": "stderr",
     "output_type": "stream",
     "text": [
      "train 103/103 | cost: 3.0383 | ler: 25.928: 100%|██████████| 103/103 [01:13<00:00,  1.40it/s]\n",
      "validation 27/27 | cost: 2.8913 | ler: 25.107: 100%|██████████| 27/27 [00:13<00:00,  1.96it/s]\n",
      "  0%|          | 0/103 [00:00<?, ?it/s]"
     ]
    },
    {
     "name": "stdout",
     "output_type": "stream",
     "text": [
      "beginning epoch 57/200. lr=1.953125e-06\n"
     ]
    },
    {
     "name": "stderr",
     "output_type": "stream",
     "text": [
      "train 103/103 | cost: 2.9151 | ler: 26.532: 100%|██████████| 103/103 [01:13<00:00,  1.41it/s]\n",
      "validation 27/27 | cost: 3.1285 | ler: 25.725: 100%|██████████| 27/27 [00:13<00:00,  1.95it/s]\n",
      "  0%|          | 0/103 [00:00<?, ?it/s]"
     ]
    },
    {
     "name": "stdout",
     "output_type": "stream",
     "text": [
      "beginning epoch 58/200. lr=1.953125e-06\n"
     ]
    },
    {
     "name": "stderr",
     "output_type": "stream",
     "text": [
      "train 103/103 | cost: 3.1591 | ler: 27.986: 100%|██████████| 103/103 [01:13<00:00,  1.41it/s]\n",
      "validation 27/27 | cost: 2.8963 | ler: 25.849: 100%|██████████| 27/27 [00:13<00:00,  1.95it/s]\n",
      "  0%|          | 0/103 [00:00<?, ?it/s]"
     ]
    },
    {
     "name": "stdout",
     "output_type": "stream",
     "text": [
      "reducing learning rate 0.0000->0.0000\n",
      "beginning epoch 59/200. lr=4.8828125e-07\n"
     ]
    },
    {
     "name": "stderr",
     "output_type": "stream",
     "text": [
      "train 103/103 | cost: 2.6928 | ler: 25.188: 100%|██████████| 103/103 [01:12<00:00,  1.42it/s]\n",
      "validation 27/27 | cost: 3.2301 | ler: 24.819: 100%|██████████| 27/27 [00:13<00:00,  1.95it/s]\n",
      "  0%|          | 0/103 [00:00<?, ?it/s]"
     ]
    },
    {
     "name": "stdout",
     "output_type": "stream",
     "text": [
      "reducing learning rate 0.0000->0.0000\n",
      "beginning epoch 60/200. lr=1.220703125e-07\n"
     ]
    },
    {
     "name": "stderr",
     "output_type": "stream",
     "text": [
      "train 103/103 | cost: 3.1863 | ler: 28.319: 100%|██████████| 103/103 [01:12<00:00,  1.43it/s]\n",
      "validation 27/27 | cost: 3.0841 | ler: 25.022: 100%|██████████| 27/27 [00:13<00:00,  1.96it/s]\n",
      "  0%|          | 0/103 [00:00<?, ?it/s]"
     ]
    },
    {
     "name": "stdout",
     "output_type": "stream",
     "text": [
      "reducing learning rate 0.0000->0.0000\n",
      "beginning epoch 61/200. lr=3.0517578125e-08\n"
     ]
    },
    {
     "name": "stderr",
     "output_type": "stream",
     "text": [
      "train 103/103 | cost: 2.9052 | ler: 26.303: 100%|██████████| 103/103 [01:12<00:00,  1.42it/s]\n",
      "validation 27/27 | cost: 3.2370 | ler: 27.899: 100%|██████████| 27/27 [00:13<00:00,  1.97it/s]"
     ]
    },
    {
     "name": "stdout",
     "output_type": "stream",
     "text": [
      "reducing learning rate 0.0000->0.0000\n",
      "early stopping!\n"
     ]
    },
    {
     "name": "stderr",
     "output_type": "stream",
     "text": [
      "\n"
     ]
    }
   ],
   "source": [
    "num_epochs = 200\n",
    "train_steps = sum(ex_df.state.isin([\"train\"]))//N_BATCH\n",
    "val_steps = sum(ex_df.state.isin([\"val\", \"test\"]))//N_BATCH\n",
    "LR = 0.002\n",
    "LR_WINDOW = 3\n",
    "LR_STEP = .25\n",
    "STOP_WINDOW = 6\n",
    "\n",
    "with sess.as_default():\n",
    "    hist = {\n",
    "        \"train_cost\": [],\n",
    "        \"train_ler\": [],\n",
    "        \"val_cost\": [],\n",
    "        \"val_ler\": [],\n",
    "        \"lr\": []\n",
    "    }\n",
    "    \n",
    "    for epoch_i in range(num_epochs):\n",
    "        train_cost = []\n",
    "        train_ler = []\n",
    "    \n",
    "        print(\"beginning epoch {}/{}. lr={}\".format(epoch_i+1, num_epochs, LR))\n",
    "        \n",
    "        step_bar = tqdm(range(train_steps))\n",
    "        \n",
    "        for step_i in step_bar:\n",
    "            \n",
    "            train_batch = next(train_gen)\n",
    "            \n",
    "            feed = {\n",
    "                lr: LR,\n",
    "                wav_input: train_batch[\"wav\"],\n",
    "                sequence_length: train_batch[\"sequence_length\"],\n",
    "                labels: train_batch[\"labels\"],\n",
    "                K.learning_phase(): 1,\n",
    "            }\n",
    "#             optimizer.run(feed_dict=feed)\n",
    "            batch_cost, batch_ler, _, _ = sess.run([cost, greedy_ler, optimizer, base_model.updates], feed)\n",
    "            train_cost.append(batch_cost)\n",
    "            train_ler.append(batch_ler*100)\n",
    "            \n",
    "            step_bar.set_description(\"train {}/{} | cost: {:.4f} | ler: {:.3f}\".format(\n",
    "                step_i+1,\n",
    "                train_steps,\n",
    "                np.mean(train_cost), \n",
    "                np.mean(train_ler),\n",
    "            ))\n",
    "            \n",
    "        val_cost = []\n",
    "        val_ler = []\n",
    "        step_bar = tqdm(range(val_steps))\n",
    "        for step_i in step_bar:\n",
    "\n",
    "            val_batch = next(val_gen)\n",
    "            feed = {\n",
    "                lr: LR,\n",
    "                wav_input: val_batch['wav'],\n",
    "                sequence_length: val_batch['sequence_length'],\n",
    "                labels: val_batch['labels'],\n",
    "                K.learning_phase(): 0,\n",
    "            }\n",
    "            batch_cost, batch_ler = sess.run([cost, greedy_ler], feed)\n",
    "            val_cost.append(batch_cost)\n",
    "            val_ler.append(batch_ler*100)\n",
    "            \n",
    "            step_bar.set_description(\"validation {}/{} | cost: {:.4f} | ler: {:.3f}\".format(\n",
    "                step_i+1,\n",
    "                val_steps,\n",
    "                np.mean(val_cost), \n",
    "                np.mean(val_ler),\n",
    "            ))\n",
    "\n",
    "        \n",
    "        hist[\"train_cost\"].append(train_cost)\n",
    "        hist[\"train_ler\"].append(train_ler)\n",
    "        hist[\"val_cost\"].append(val_cost)\n",
    "        hist[\"val_ler\"].append(val_ler)\n",
    "        hist[\"lr\"].append(LR)\n",
    "        \n",
    "        out_means = np.mean(hist[\"val_ler\"], axis=1)\n",
    "        best_i = argmin(out_means)\n",
    "        \n",
    "        if epoch_i - best_i > LR_WINDOW:\n",
    "            print(\"reducing learning rate {:.4f}->{:.4f}\".format(\n",
    "                LR,\n",
    "                LR*LR_STEP\n",
    "            ))\n",
    "            LR = LR*LR_STEP\n",
    "                \n",
    "        if epoch_i - best_i > STOP_WINDOW:\n",
    "            print(\"early stopping!\")\n",
    "            break"
   ]
  },
  {
   "cell_type": "code",
   "execution_count": null,
   "metadata": {},
   "outputs": [],
   "source": []
  }
 ],
 "metadata": {
  "kernelspec": {
   "display_name": "Python 3",
   "language": "python",
   "name": "python3"
  },
  "language_info": {
   "codemirror_mode": {
    "name": "ipython",
    "version": 3
   },
   "file_extension": ".py",
   "mimetype": "text/x-python",
   "name": "python",
   "nbconvert_exporter": "python",
   "pygments_lexer": "ipython3",
   "version": "3.5.2"
  },
  "toc": {
   "nav_menu": {},
   "number_sections": true,
   "sideBar": true,
   "skip_h1_title": false,
   "toc_cell": false,
   "toc_position": {},
   "toc_section_display": "none",
   "toc_window_display": false
  },
  "varInspector": {
   "cols": {
    "lenName": 16,
    "lenType": 16,
    "lenVar": 40
   },
   "kernels_config": {
    "python": {
     "delete_cmd_postfix": "",
     "delete_cmd_prefix": "del ",
     "library": "var_list.py",
     "varRefreshCmd": "print(var_dic_list())"
    },
    "r": {
     "delete_cmd_postfix": ") ",
     "delete_cmd_prefix": "rm(",
     "library": "var_list.r",
     "varRefreshCmd": "cat(var_dic_list()) "
    }
   },
   "types_to_exclude": [
    "module",
    "function",
    "builtin_function_or_method",
    "instance",
    "_Feature"
   ],
   "window_display": false
  }
 },
 "nbformat": 4,
 "nbformat_minor": 2
}
