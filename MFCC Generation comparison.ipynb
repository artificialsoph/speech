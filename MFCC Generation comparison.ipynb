{
 "cells": [
  {
   "cell_type": "code",
   "execution_count": 2,
   "metadata": {
    "ExecuteTime": {
     "end_time": "2018-01-09T16:33:02.349307Z",
     "start_time": "2018-01-09T16:33:02.241790Z"
    }
   },
   "outputs": [
    {
     "name": "stdout",
     "output_type": "stream",
     "text": [
      "Populating the interactive namespace from numpy and matplotlib\n"
     ]
    },
    {
     "name": "stderr",
     "output_type": "stream",
     "text": [
      "/usr/local/lib/python3.5/dist-packages/IPython/core/magics/pylab.py:160: UserWarning: pylab import has clobbered these variables: ['random', 'arrow']\n",
      "`%matplotlib` prevents importing * from pylab and numpy\n",
      "  \"\\n`%matplotlib` prevents importing * from pylab and numpy\"\n"
     ]
    }
   ],
   "source": [
    "%pylab inline\n",
    "import keras\n",
    "import keras.backend as K\n",
    "import kapre\n",
    "import pandas as pd\n",
    "import scipy.io.wavfile as wav\n",
    "import numpy as np\n",
    "import random\n",
    "import arrow\n",
    "import threading\n",
    "import hyperopt\n",
    "import pprint\n",
    "import librosa\n",
    "import samplerate\n",
    "from hyperopt import hp\n",
    "from soph import soph_scaler, center_wave, ex_generator\n",
    "ex_df = pd.read_pickle(\"data/ex_df.pkl\")\n",
    "# https://github.com/keunwoochoi/kapre"
   ]
  },
  {
   "cell_type": "code",
   "execution_count": 4,
   "metadata": {
    "ExecuteTime": {
     "end_time": "2018-01-09T16:35:08.343830Z",
     "start_time": "2018-01-09T16:35:06.780499Z"
    }
   },
   "outputs": [],
   "source": [
    "test_df = ex_df.loc[ex_df.state==\"val\",:].copy()\n",
    "test_df.reset_index(inplace=True)\n",
    "num_ex = len(test_df)\n",
    "x = zeros((num_ex,1,16000))\n",
    "for x_i,j in enumerate(range(num_ex)):\n",
    "\n",
    "    x[x_i,...] = center_wave(test_df.fn[j])\n"
   ]
  },
  {
   "cell_type": "code",
   "execution_count": 5,
   "metadata": {
    "ExecuteTime": {
     "end_time": "2018-01-09T16:35:17.066742Z",
     "start_time": "2018-01-09T16:35:17.062214Z"
    }
   },
   "outputs": [
    {
     "data": {
      "text/plain": [
       "(7058, 1, 16000)"
      ]
     },
     "execution_count": 5,
     "metadata": {},
     "output_type": "execute_result"
    }
   ],
   "source": [
    "x.shape"
   ]
  },
  {
   "cell_type": "markdown",
   "metadata": {},
   "source": [
    "# Kapre-based MFCC"
   ]
  },
  {
   "cell_type": "code",
   "execution_count": 9,
   "metadata": {
    "ExecuteTime": {
     "end_time": "2018-01-09T16:57:33.140535Z",
     "start_time": "2018-01-09T16:57:30.322033Z"
    }
   },
   "outputs": [],
   "source": [
    "k_input = keras.layers.Input(shape=(1, 16000))\n",
    "k_output = kapre.time_frequency.MFCC(\n",
    "    retain=20,\n",
    "    n_mfcc=80,\n",
    "    n_mels=80,\n",
    "    n_dft=1024,\n",
    "    n_hop=256,\n",
    "    power_melgram=2.0,\n",
    "    return_decibel_melgram=True,\n",
    ")(k_input)\n",
    "\n",
    "k_model = keras.Model(inputs=k_input, outputs=k_output)\n",
    "\n",
    "k_model.compile(\n",
    "    loss='sparse_categorical_crossentropy',\n",
    "    optimizer='nadam',\n",
    "    metrics=['accuracy'])"
   ]
  },
  {
   "cell_type": "code",
   "execution_count": 11,
   "metadata": {
    "ExecuteTime": {
     "end_time": "2018-01-09T16:58:05.509754Z",
     "start_time": "2018-01-09T16:58:03.809255Z"
    }
   },
   "outputs": [
    {
     "name": "stdout",
     "output_type": "stream",
     "text": [
      "7058/7058 [==============================] - 2s 240us/step\n"
     ]
    }
   ],
   "source": [
    "_ = k_model.predict(x, batch_size=512, verbose=1)"
   ]
  },
  {
   "cell_type": "code",
   "execution_count": null,
   "metadata": {},
   "outputs": [],
   "source": []
  }
 ],
 "metadata": {
  "kernelspec": {
   "display_name": "Python 3",
   "language": "python",
   "name": "python3"
  },
  "language_info": {
   "codemirror_mode": {
    "name": "ipython",
    "version": 3
   },
   "file_extension": ".py",
   "mimetype": "text/x-python",
   "name": "python",
   "nbconvert_exporter": "python",
   "pygments_lexer": "ipython3",
   "version": "3.5.2"
  },
  "toc": {
   "nav_menu": {},
   "number_sections": true,
   "sideBar": true,
   "skip_h1_title": false,
   "toc_cell": false,
   "toc_position": {},
   "toc_section_display": "block",
   "toc_window_display": false
  },
  "varInspector": {
   "cols": {
    "lenName": 16,
    "lenType": 16,
    "lenVar": 40
   },
   "kernels_config": {
    "python": {
     "delete_cmd_postfix": "",
     "delete_cmd_prefix": "del ",
     "library": "var_list.py",
     "varRefreshCmd": "print(var_dic_list())"
    },
    "r": {
     "delete_cmd_postfix": ") ",
     "delete_cmd_prefix": "rm(",
     "library": "var_list.r",
     "varRefreshCmd": "cat(var_dic_list()) "
    }
   },
   "types_to_exclude": [
    "module",
    "function",
    "builtin_function_or_method",
    "instance",
    "_Feature"
   ],
   "window_display": false
  }
 },
 "nbformat": 4,
 "nbformat_minor": 2
}
