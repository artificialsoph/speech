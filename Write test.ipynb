{
 "cells": [
  {
   "cell_type": "code",
   "execution_count": 1,
   "metadata": {
    "ExecuteTime": {
     "end_time": "2018-01-07T06:31:21.087494Z",
     "start_time": "2018-01-07T06:31:19.306831Z"
    }
   },
   "outputs": [
    {
     "name": "stdout",
     "output_type": "stream",
     "text": [
      "Populating the interactive namespace from numpy and matplotlib\n"
     ]
    },
    {
     "name": "stderr",
     "output_type": "stream",
     "text": [
      "Using TensorFlow backend.\n",
      "/usr/local/lib/python3.5/dist-packages/scipy/io/wavfile.py:273: WavFileWarning: Chunk (non-data) not understood, skipping it.\n",
      "  WavFileWarning)\n"
     ]
    }
   ],
   "source": [
    "%pylab inline\n",
    "import pandas as pd\n",
    "import keras\n",
    "import kapre\n",
    "import glob\n",
    "import arrow\n",
    "import pathlib\n",
    "from tqdm import tqdm\n",
    "from soph import center_wave, MFCC"
   ]
  },
  {
   "cell_type": "code",
   "execution_count": 2,
   "metadata": {
    "ExecuteTime": {
     "end_time": "2018-01-07T06:31:21.097416Z",
     "start_time": "2018-01-07T06:31:21.089791Z"
    }
   },
   "outputs": [
    {
     "data": {
      "text/plain": [
       "'submissions/2018-01-07/01-31'"
      ]
     },
     "execution_count": 2,
     "metadata": {},
     "output_type": "execute_result"
    }
   ],
   "source": [
    "base_path = \"submissions/\"+arrow.now().to('US/Eastern').format('YYYY-MM-DD/HH-mm')\n",
    "base_path"
   ]
  },
  {
   "cell_type": "code",
   "execution_count": 3,
   "metadata": {
    "ExecuteTime": {
     "end_time": "2018-01-07T06:31:21.104624Z",
     "start_time": "2018-01-07T06:31:21.099518Z"
    }
   },
   "outputs": [],
   "source": [
    "base_path = pathlib.Path(base_path)\n",
    "base_path.mkdir(parents=True, exist_ok=True)"
   ]
  },
  {
   "cell_type": "code",
   "execution_count": 4,
   "metadata": {
    "ExecuteTime": {
     "end_time": "2018-01-07T06:31:21.111590Z",
     "start_time": "2018-01-07T06:31:21.107012Z"
    }
   },
   "outputs": [
    {
     "data": {
      "text/plain": [
       "PosixPath('submissions/2018-01-07/01-31/model.hdf5')"
      ]
     },
     "execution_count": 4,
     "metadata": {},
     "output_type": "execute_result"
    }
   ],
   "source": [
    "base_path.joinpath(\"model.hdf5\")"
   ]
  },
  {
   "cell_type": "code",
   "execution_count": 5,
   "metadata": {
    "ExecuteTime": {
     "end_time": "2018-01-07T06:31:21.118534Z",
     "start_time": "2018-01-07T06:31:21.113903Z"
    }
   },
   "outputs": [],
   "source": [
    "model_path = pathlib.Path(\"logs/cnn/2018-01-06-23-16/model-checkpoint.hdf5\")\n",
    "\n",
    "#move model \n",
    "model_path.rename(pathlib.Path(base_path / \"model.hdf5\"))\n",
    "model_path = base_path / \"model.hdf5\""
   ]
  },
  {
   "cell_type": "code",
   "execution_count": 6,
   "metadata": {
    "ExecuteTime": {
     "end_time": "2018-01-07T06:31:21.125309Z",
     "start_time": "2018-01-07T06:31:21.120874Z"
    }
   },
   "outputs": [
    {
     "name": "stdout",
     "output_type": "stream",
     "text": [
      "submissions/2018-01-07/01-31/model.hdf5\n"
     ]
    }
   ],
   "source": [
    "print(model_path)"
   ]
  },
  {
   "cell_type": "code",
   "execution_count": 7,
   "metadata": {
    "ExecuteTime": {
     "end_time": "2018-01-07T06:31:21.212559Z",
     "start_time": "2018-01-07T06:31:21.127619Z"
    }
   },
   "outputs": [],
   "source": [
    "ex_df = pd.read_pickle(\"data/ex_df.pkl\")"
   ]
  },
  {
   "cell_type": "code",
   "execution_count": 8,
   "metadata": {
    "ExecuteTime": {
     "end_time": "2018-01-07T06:31:25.065587Z",
     "start_time": "2018-01-07T06:31:21.214610Z"
    }
   },
   "outputs": [],
   "source": [
    "test_model = keras.models.load_model(\n",
    "    model_path,\n",
    "    custom_objects={\n",
    "        \"Melspectrogram\": kapre.time_frequency.Melspectrogram,\n",
    "        \"AdditiveNoise\": kapre.augmentation.AdditiveNoise,\n",
    "        \"MFCC\": kapre.time_frequency.MFCC,\n",
    "        \"DeltaDelta\": kapre.utils.DeltaDelta,\n",
    "    })"
   ]
  },
  {
   "cell_type": "code",
   "execution_count": 9,
   "metadata": {
    "ExecuteTime": {
     "end_time": "2018-01-07T06:31:25.101432Z",
     "start_time": "2018-01-07T06:31:25.068347Z"
    }
   },
   "outputs": [],
   "source": [
    "label_dict = {}\n",
    "for label_i in ex_df[-ex_df.label_i.isna()].label_i.unique():\n",
    "    \n",
    "    label_dict[int(label_i)] = ex_df[ex_df.label_i==label_i].label.mode().values[0]"
   ]
  },
  {
   "cell_type": "code",
   "execution_count": 10,
   "metadata": {
    "ExecuteTime": {
     "end_time": "2018-01-07T06:31:25.142429Z",
     "start_time": "2018-01-07T06:31:25.103651Z"
    }
   },
   "outputs": [],
   "source": [
    "test_df = ex_df.loc[ex_df.state==\"submission\",:].copy()\n",
    "test_df.reset_index(inplace=True)\n",
    "num_rows = len(test_df)"
   ]
  },
  {
   "cell_type": "code",
   "execution_count": 11,
   "metadata": {
    "ExecuteTime": {
     "end_time": "2018-01-07T06:33:38.469434Z",
     "start_time": "2018-01-07T06:31:25.144664Z"
    }
   },
   "outputs": [
    {
     "name": "stderr",
     "output_type": "stream",
     "text": [
      "100%|██████████| 310/310 [02:13<00:00,  2.33it/s]\n"
     ]
    }
   ],
   "source": [
    "batch_size = 512\n",
    "y_pred = []\n",
    "for i in tqdm(np.arange(0,num_rows,batch_size)):\n",
    "    \n",
    "    curr_size = min(batch_size,num_rows-i)\n",
    "    x = zeros((curr_size,1,16000))\n",
    "    for x_i,j in enumerate(range(i,min(i+batch_size, num_rows))):\n",
    "        \n",
    "        x[x_i,...] = center_wave(test_df.fn[j])\n",
    "        \n",
    "    pred_class = np.argmax(test_model.predict_on_batch(x), axis=1)\n",
    "    y_pred.append(pred_class[:,np.newaxis])"
   ]
  },
  {
   "cell_type": "code",
   "execution_count": 12,
   "metadata": {
    "ExecuteTime": {
     "end_time": "2018-01-07T06:33:38.475262Z",
     "start_time": "2018-01-07T06:33:38.471451Z"
    }
   },
   "outputs": [],
   "source": [
    "y_pred= np.concatenate(y_pred)"
   ]
  },
  {
   "cell_type": "code",
   "execution_count": 13,
   "metadata": {
    "ExecuteTime": {
     "end_time": "2018-01-07T06:33:38.494809Z",
     "start_time": "2018-01-07T06:33:38.477941Z"
    }
   },
   "outputs": [
    {
     "data": {
      "text/plain": [
       "158538"
      ]
     },
     "execution_count": 13,
     "metadata": {},
     "output_type": "execute_result"
    }
   ],
   "source": [
    "len(y_pred)"
   ]
  },
  {
   "cell_type": "code",
   "execution_count": 14,
   "metadata": {
    "ExecuteTime": {
     "end_time": "2018-01-07T06:33:38.500960Z",
     "start_time": "2018-01-07T06:33:38.496988Z"
    }
   },
   "outputs": [
    {
     "data": {
      "text/plain": [
       "158538"
      ]
     },
     "execution_count": 14,
     "metadata": {},
     "output_type": "execute_result"
    }
   ],
   "source": [
    "len(test_df)"
   ]
  },
  {
   "cell_type": "code",
   "execution_count": 15,
   "metadata": {
    "ExecuteTime": {
     "end_time": "2018-01-07T06:33:38.510879Z",
     "start_time": "2018-01-07T06:33:38.503440Z"
    }
   },
   "outputs": [],
   "source": [
    "test_df.loc[:,\"y_pred_raw\"] = y_pred.flat"
   ]
  },
  {
   "cell_type": "code",
   "execution_count": 16,
   "metadata": {
    "ExecuteTime": {
     "end_time": "2018-01-07T06:33:38.529177Z",
     "start_time": "2018-01-07T06:33:38.513207Z"
    }
   },
   "outputs": [],
   "source": [
    "test_df[\"label\"] = test_df.y_pred_raw.map(label_dict)"
   ]
  },
  {
   "cell_type": "code",
   "execution_count": 17,
   "metadata": {
    "ExecuteTime": {
     "end_time": "2018-01-07T06:33:38.958571Z",
     "start_time": "2018-01-07T06:33:38.531221Z"
    }
   },
   "outputs": [],
   "source": [
    "test_df[\"fname\"] = test_df.fn.str.split(\"/\").str[-1]"
   ]
  },
  {
   "cell_type": "code",
   "execution_count": 18,
   "metadata": {
    "ExecuteTime": {
     "end_time": "2018-01-07T06:33:38.984552Z",
     "start_time": "2018-01-07T06:33:38.960966Z"
    }
   },
   "outputs": [],
   "source": [
    "submission_df = test_df[[\"fname\",\"label\"]]"
   ]
  },
  {
   "cell_type": "code",
   "execution_count": 19,
   "metadata": {
    "ExecuteTime": {
     "end_time": "2018-01-07T06:33:39.179075Z",
     "start_time": "2018-01-07T06:33:38.987094Z"
    }
   },
   "outputs": [],
   "source": [
    "submission_df.to_csv(base_path / \"submission.csv\",index=False)"
   ]
  },
  {
   "cell_type": "code",
   "execution_count": null,
   "metadata": {},
   "outputs": [],
   "source": []
  }
 ],
 "metadata": {
  "kernelspec": {
   "display_name": "Python 3",
   "language": "python",
   "name": "python3"
  },
  "language_info": {
   "codemirror_mode": {
    "name": "ipython",
    "version": 3
   },
   "file_extension": ".py",
   "mimetype": "text/x-python",
   "name": "python",
   "nbconvert_exporter": "python",
   "pygments_lexer": "ipython3",
   "version": "3.5.2"
  },
  "toc": {
   "nav_menu": {},
   "number_sections": true,
   "sideBar": true,
   "skip_h1_title": false,
   "toc_cell": false,
   "toc_position": {},
   "toc_section_display": "block",
   "toc_window_display": false
  },
  "varInspector": {
   "cols": {
    "lenName": 16,
    "lenType": 16,
    "lenVar": 40
   },
   "kernels_config": {
    "python": {
     "delete_cmd_postfix": "",
     "delete_cmd_prefix": "del ",
     "library": "var_list.py",
     "varRefreshCmd": "print(var_dic_list())"
    },
    "r": {
     "delete_cmd_postfix": ") ",
     "delete_cmd_prefix": "rm(",
     "library": "var_list.r",
     "varRefreshCmd": "cat(var_dic_list()) "
    }
   },
   "position": {
    "height": "265px",
    "left": "1070px",
    "right": "20px",
    "top": "120px",
    "width": "350px"
   },
   "types_to_exclude": [
    "module",
    "function",
    "builtin_function_or_method",
    "instance",
    "_Feature"
   ],
   "window_display": false
  }
 },
 "nbformat": 4,
 "nbformat_minor": 2
}
